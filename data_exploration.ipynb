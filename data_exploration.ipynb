{
  "nbformat": 4,
  "nbformat_minor": 0,
  "metadata": {
    "colab": {
      "provenance": []
    },
    "kernelspec": {
      "name": "python3",
      "display_name": "Python 3"
    },
    "language_info": {
      "name": "python"
    }
  },
  "cells": [
    {
      "cell_type": "markdown",
      "source": [
        "### Configure the Spark Context"
      ],
      "metadata": {
        "id": "ciQy97Qvf56U"
      }
    },
    {
      "cell_type": "markdown",
      "source": [
        "This code is adapted from: https://colab.research.google.com/drive/1Vyg-mF3Uzu5B432oZS3nYyV3gIfdnOqh#scrollTo=94Ts396zKTcr"
      ],
      "metadata": {
        "id": "FPXstyIWgoM0"
      }
    },
    {
      "cell_type": "code",
      "source": [
        "def setupSpark():\n",
        "  # Spark needs to run with Java 8 ... \n",
        "  !pip install -q findspark\n",
        "  !apt-get install openjdk-8-jdk-headless > /dev/null\n",
        "  !echo 2 | update-alternatives --config java > /dev/null\n",
        "  # !java -version\n",
        "  import os, findspark\n",
        "  os.environ['JAVA_HOME'] = '/usr/lib/jvm/java-8-openjdk-amd64'\n",
        "  # !echo JAVA_HOME=$JAVA_HOME\n",
        "  !pip install -q pyspark\n",
        "  findspark.init(spark_home='/usr/local/lib/python3.6/dist-packages/pyspark')\n",
        "  !pyspark --version\n",
        "\n",
        "\n",
        "setupSpark()"
      ],
      "metadata": {
        "colab": {
          "base_uri": "https://localhost:8080/"
        },
        "id": "Q-748b4jfzP9",
        "outputId": "400f5b79-ff0a-457b-f40f-d3d212b0d470"
      },
      "execution_count": 64,
      "outputs": [
        {
          "output_type": "stream",
          "name": "stdout",
          "text": [
            "/usr/local/bin/pyspark: line 24: /usr/local/lib/python3.6/dist-packages/pyspark/bin/load-spark-env.sh: No such file or directory\n",
            "/usr/local/bin/pyspark: line 68: /usr/local/lib/python3.6/dist-packages/pyspark/bin/spark-submit: No such file or directory\n"
          ]
        }
      ]
    },
    {
      "cell_type": "code",
      "source": [
        "from pyspark import SparkContext\n",
        "from pyspark.sql import SparkSession\n",
        "    \n",
        "spark = SparkSession\\\n",
        "        .builder\\\n",
        "        .master('local[*]')\\\n",
        "        .getOrCreate()\n",
        "sc = spark.sparkContext\n",
        "sc.setLogLevel(\"WARN\")"
      ],
      "metadata": {
        "id": "vlKkyBixgHA6"
      },
      "execution_count": 5,
      "outputs": []
    },
    {
      "cell_type": "markdown",
      "source": [
        "## Read in Dataset"
      ],
      "metadata": {
        "id": "jwdOfwgag0IX"
      }
    },
    {
      "cell_type": "code",
      "source": [
        "from pyspark.sql.functions import *"
      ],
      "metadata": {
        "id": "RsBrxGtZiXAP"
      },
      "execution_count": 65,
      "outputs": []
    },
    {
      "cell_type": "code",
      "source": [
        "# connect to google drive\n",
        "from google.colab import drive\n",
        "drive.mount('/content/drive')"
      ],
      "metadata": {
        "colab": {
          "base_uri": "https://localhost:8080/"
        },
        "id": "KReJ1MqigTzd",
        "outputId": "6ed5969d-d5ff-4c67-faf3-c6929a89302e"
      },
      "execution_count": 66,
      "outputs": [
        {
          "output_type": "stream",
          "name": "stdout",
          "text": [
            "Drive already mounted at /content/drive; to attempt to forcibly remount, call drive.mount(\"/content/drive\", force_remount=True).\n"
          ]
        }
      ]
    },
    {
      "cell_type": "code",
      "source": [
        "filePath = \"drive/MyDrive/Colab Notebooks/comments.csv.xls\"\n",
        "comments_df = spark.read.format(\"csv\").option(\"header\",\"true\").load(filePath)\n"
      ],
      "metadata": {
        "id": "xFLg8axnhWIQ"
      },
      "execution_count": 8,
      "outputs": []
    },
    {
      "cell_type": "code",
      "source": [
        "## push comments to textfile\n",
        "comments = comments_df.toPandas()\n",
        "comments[\"comment_text\"].to_csv('drive/MyDrive/Colab Notebooks/comments.txt', sep=\"\\n\", index=False)"
      ],
      "metadata": {
        "id": "nsDjmUk0uVZU"
      },
      "execution_count": 59,
      "outputs": []
    },
    {
      "cell_type": "code",
      "source": [
        "comments_df.printSchema()"
      ],
      "metadata": {
        "colab": {
          "base_uri": "https://localhost:8080/"
        },
        "id": "EDt2svcNhxFZ",
        "outputId": "3331b403-1013-4419-d5c8-ff64bf3c405a"
      },
      "execution_count": 9,
      "outputs": [
        {
          "output_type": "stream",
          "name": "stdout",
          "text": [
            "root\n",
            " |-- username_href: string (nullable = true)\n",
            " |-- view_key: string (nullable = true)\n",
            " |-- comment_text: string (nullable = true)\n",
            " |-- upvotes: string (nullable = true)\n",
            " |-- timestamp: string (nullable = true)\n",
            "\n"
          ]
        }
      ]
    },
    {
      "cell_type": "code",
      "source": [
        "## upvotes is a string, we want it to be an int\n",
        "comments_df = comments_df.withColumn('upvotes', col('upvotes').cast('int'))"
      ],
      "metadata": {
        "id": "-6GkvORZiAqW"
      },
      "execution_count": 13,
      "outputs": []
    },
    {
      "cell_type": "code",
      "source": [
        "comments_df.printSchema()"
      ],
      "metadata": {
        "colab": {
          "base_uri": "https://localhost:8080/"
        },
        "id": "rZ5d8gN4iaBQ",
        "outputId": "9d41eec5-249b-44f9-c8dc-ed76113958ab"
      },
      "execution_count": 14,
      "outputs": [
        {
          "output_type": "stream",
          "name": "stdout",
          "text": [
            "root\n",
            " |-- username_href: string (nullable = true)\n",
            " |-- view_key: string (nullable = true)\n",
            " |-- comment_text: string (nullable = true)\n",
            " |-- upvotes: integer (nullable = true)\n",
            " |-- timestamp: string (nullable = true)\n",
            "\n"
          ]
        }
      ]
    },
    {
      "cell_type": "markdown",
      "source": [
        "## Exploratory Data Analysis"
      ],
      "metadata": {
        "id": "p9sx9tYuidlZ"
      }
    },
    {
      "cell_type": "markdown",
      "source": [
        "### Average Upvote Number"
      ],
      "metadata": {
        "id": "wcGPWEP0igxV"
      }
    },
    {
      "cell_type": "code",
      "source": [
        "import pandas as pd\n",
        "import pyspark as ps"
      ],
      "metadata": {
        "id": "65PcwQNtjSCl"
      },
      "execution_count": 22,
      "outputs": []
    },
    {
      "cell_type": "code",
      "source": [
        "## mode of upvotes\n",
        "comments_df.groupby(\"upvotes\").count().orderBy(\"count\", ascending=False).show()"
      ],
      "metadata": {
        "colab": {
          "base_uri": "https://localhost:8080/"
        },
        "id": "7kTQMnfRlPxI",
        "outputId": "46407ae9-3e48-4f66-e797-e44f597bcbf4"
      },
      "execution_count": 35,
      "outputs": [
        {
          "output_type": "stream",
          "name": "stdout",
          "text": [
            "+-------+------+\n",
            "|upvotes| count|\n",
            "+-------+------+\n",
            "|      0|319914|\n",
            "|      1|165434|\n",
            "|      2| 78840|\n",
            "|      3| 47820|\n",
            "|   null| 38887|\n",
            "|      4| 32103|\n",
            "|      5| 23187|\n",
            "|      6| 17890|\n",
            "|      7| 13707|\n",
            "|      8| 11220|\n",
            "|      9|  9186|\n",
            "|     10|  7585|\n",
            "|     11|  6438|\n",
            "|     12|  5525|\n",
            "|     13|  4810|\n",
            "|     14|  4378|\n",
            "|     15|  3849|\n",
            "|     16|  3524|\n",
            "|     17|  3148|\n",
            "|     18|  2972|\n",
            "+-------+------+\n",
            "only showing top 20 rows\n",
            "\n"
          ]
        }
      ]
    },
    {
      "cell_type": "code",
      "source": [
        "# avg of upvotes\n",
        "comments_df.select(mean('upvotes')).collect()"
      ],
      "metadata": {
        "colab": {
          "base_uri": "https://localhost:8080/"
        },
        "id": "lo145Uyll7v0",
        "outputId": "2c599324-797c-4cbd-89b1-5f328c175439"
      },
      "execution_count": 40,
      "outputs": [
        {
          "output_type": "execute_result",
          "data": {
            "text/plain": [
              "[Row(avg(upvotes)=8.424066809609668)]"
            ]
          },
          "metadata": {},
          "execution_count": 40
        }
      ]
    },
    {
      "cell_type": "markdown",
      "source": [
        "### Unique Comments"
      ],
      "metadata": {
        "id": "CPrWsIPlkVft"
      }
    },
    {
      "cell_type": "code",
      "source": [
        "comments_df.select('comment_text').distinct().count()"
      ],
      "metadata": {
        "colab": {
          "base_uri": "https://localhost:8080/"
        },
        "id": "CN_UCMiNkaH2",
        "outputId": "a22afc64-c9a6-4c22-83e2-223e073126c8"
      },
      "execution_count": 25,
      "outputs": [
        {
          "output_type": "execute_result",
          "data": {
            "text/plain": [
              "714965"
            ]
          },
          "metadata": {},
          "execution_count": 25
        }
      ]
    },
    {
      "cell_type": "markdown",
      "source": [
        "## Word Frequency"
      ],
      "metadata": {
        "id": "-Pab2XwCmem5"
      }
    },
    {
      "cell_type": "code",
      "source": [
        "data_file = 'drive/MyDrive/Colab Notebooks/comments.txt'\n",
        "# take file and distribute it across worker nodes\n",
        "comments_rdd = sc.textFile(data_file)"
      ],
      "metadata": {
        "id": "TZCVexh4mhUb"
      },
      "execution_count": 67,
      "outputs": []
    },
    {
      "cell_type": "code",
      "source": [
        "comments_rdd.take(20)"
      ],
      "metadata": {
        "colab": {
          "base_uri": "https://localhost:8080/"
        },
        "id": "lwCynswqsruE",
        "outputId": "ef551324-06b7-45f5-f271-0017ef96e638"
      },
      "execution_count": 68,
      "outputs": [
        {
          "output_type": "execute_result",
          "data": {
            "text/plain": [
              "['comment_text',\n",
              " 'Old video...come on pornhub...you can do better than this',\n",
              " 'Wow 😍',\n",
              " 'Does anyone know what is the IG account from this channel ?',\n",
              " 'Clickbait in porn... I just totally lost my faith in humanity.',\n",
              " 'I would definitely suck a fart out of your asshole!',\n",
              " 'Super hot, why lie',\n",
              " 'big toys are fine, but you make me die when you stick your fingers in the A-hole. oh fuck i cummed',\n",
              " \"This is great. I can't relax in front of the camera like that\",\n",
              " '❤',\n",
              " 'love',\n",
              " 'просто классная девчонка 😍',\n",
              " 'I’m obsessed!! Your content is amazing 🤫',\n",
              " 'Amazing content OMG 🔥😍',\n",
              " 'i love being a lesbian',\n",
              " 'me too',\n",
              " 'Better without music.',\n",
              " 'perfect vid!',\n",
              " 'Spreads legs love it',\n",
              " 'Yummy!!!!']"
            ]
          },
          "metadata": {},
          "execution_count": 68
        }
      ]
    },
    {
      "cell_type": "code",
      "source": [
        "def clean_text(x):\n",
        "  punc = '!\"#$&\\'()*+,.:;<=>?@[\\\\]^_`{|}~-'\n",
        "  lowercased_str = x.lower()\n",
        "  for ch in punc:\n",
        "    lowercased_str = lowercased_str.replace(ch, '')\n",
        "  return lowercased_str"
      ],
      "metadata": {
        "id": "kGjLw_Hzsu5j"
      },
      "execution_count": 69,
      "outputs": []
    },
    {
      "cell_type": "code",
      "source": [
        "comments_rdd = comments_rdd.map(clean_text)"
      ],
      "metadata": {
        "id": "fqvsfXHptaB2"
      },
      "execution_count": 70,
      "outputs": []
    },
    {
      "cell_type": "code",
      "source": [
        "comments_rdd.take(20)"
      ],
      "metadata": {
        "colab": {
          "base_uri": "https://localhost:8080/"
        },
        "id": "aV5fhfBxtwfJ",
        "outputId": "6a29700d-36b5-4000-8e5d-4cfdafd0d7a5"
      },
      "execution_count": 71,
      "outputs": [
        {
          "output_type": "execute_result",
          "data": {
            "text/plain": [
              "['commenttext',\n",
              " 'old videocome on pornhubyou can do better than this',\n",
              " 'wow 😍',\n",
              " 'does anyone know what is the ig account from this channel ',\n",
              " 'clickbait in porn i just totally lost my faith in humanity',\n",
              " 'i would definitely suck a fart out of your asshole',\n",
              " 'super hot why lie',\n",
              " 'big toys are fine but you make me die when you stick your fingers in the ahole oh fuck i cummed',\n",
              " 'this is great i cant relax in front of the camera like that',\n",
              " '❤',\n",
              " 'love',\n",
              " 'просто классная девчонка 😍',\n",
              " 'i’m obsessed your content is amazing 🤫',\n",
              " 'amazing content omg 🔥😍',\n",
              " 'i love being a lesbian',\n",
              " 'me too',\n",
              " 'better without music',\n",
              " 'perfect vid',\n",
              " 'spreads legs love it',\n",
              " 'yummy']"
            ]
          },
          "metadata": {},
          "execution_count": 71
        }
      ]
    },
    {
      "cell_type": "code",
      "source": [
        "# split sentence into word list\n",
        "comments_rdd = comments_rdd.flatMap(lambda x: x.split(\" \"))"
      ],
      "metadata": {
        "id": "CMQnWf5bx3nx"
      },
      "execution_count": 72,
      "outputs": []
    },
    {
      "cell_type": "code",
      "source": [
        "comments_rdd.take(20)"
      ],
      "metadata": {
        "colab": {
          "base_uri": "https://localhost:8080/"
        },
        "id": "Pk5K9RWnyvu6",
        "outputId": "93285e4c-d8e1-4a76-bc4f-b7365c538e6f"
      },
      "execution_count": 73,
      "outputs": [
        {
          "output_type": "execute_result",
          "data": {
            "text/plain": [
              "['commenttext',\n",
              " 'old',\n",
              " 'videocome',\n",
              " 'on',\n",
              " 'pornhubyou',\n",
              " 'can',\n",
              " 'do',\n",
              " 'better',\n",
              " 'than',\n",
              " 'this',\n",
              " 'wow',\n",
              " '😍',\n",
              " 'does',\n",
              " 'anyone',\n",
              " 'know',\n",
              " 'what',\n",
              " 'is',\n",
              " 'the',\n",
              " 'ig',\n",
              " 'account']"
            ]
          },
          "metadata": {},
          "execution_count": 73
        }
      ]
    },
    {
      "cell_type": "code",
      "source": [
        "# exlude any whitespaces\n",
        "comments_rdd = comments_rdd.filter(lambda x: x != '')"
      ],
      "metadata": {
        "id": "B92MRMofyx5S"
      },
      "execution_count": 74,
      "outputs": []
    },
    {
      "cell_type": "code",
      "source": [
        "comments_rdd.take(20)"
      ],
      "metadata": {
        "colab": {
          "base_uri": "https://localhost:8080/"
        },
        "id": "ngeiYN8-y7RV",
        "outputId": "a2679b87-1362-416a-dd25-d538515008ca"
      },
      "execution_count": 75,
      "outputs": [
        {
          "output_type": "execute_result",
          "data": {
            "text/plain": [
              "['commenttext',\n",
              " 'old',\n",
              " 'videocome',\n",
              " 'on',\n",
              " 'pornhubyou',\n",
              " 'can',\n",
              " 'do',\n",
              " 'better',\n",
              " 'than',\n",
              " 'this',\n",
              " 'wow',\n",
              " '😍',\n",
              " 'does',\n",
              " 'anyone',\n",
              " 'know',\n",
              " 'what',\n",
              " 'is',\n",
              " 'the',\n",
              " 'ig',\n",
              " 'account']"
            ]
          },
          "metadata": {},
          "execution_count": 75
        }
      ]
    },
    {
      "cell_type": "code",
      "source": [
        "## count\n",
        "comments_count = comments_rdd.map(lambda word:(word,1))\n",
        "comments_count.take(5)"
      ],
      "metadata": {
        "colab": {
          "base_uri": "https://localhost:8080/"
        },
        "id": "7tqkCSbfzpXr",
        "outputId": "8b0ff290-acd5-458e-92d7-aa30bfd46150"
      },
      "execution_count": 79,
      "outputs": [
        {
          "output_type": "execute_result",
          "data": {
            "text/plain": [
              "[('commenttext', 1),\n",
              " ('old', 1),\n",
              " ('videocome', 1),\n",
              " ('on', 1),\n",
              " ('pornhubyou', 1)]"
            ]
          },
          "metadata": {},
          "execution_count": 79
        }
      ]
    },
    {
      "cell_type": "code",
      "source": [
        "# reduce by key\n",
        "comments_rbk = comments_count.reduceByKey(lambda x, y:(x+y)).sortByKey()\n",
        "comments_rbk.take(20)"
      ],
      "metadata": {
        "colab": {
          "base_uri": "https://localhost:8080/"
        },
        "id": "d86Nxp68zz1Z",
        "outputId": "3d110b2b-9ea2-4368-be88-a924b2de29c9"
      },
      "execution_count": 80,
      "outputs": [
        {
          "output_type": "execute_result",
          "data": {
            "text/plain": [
              "[('\\x100', 1),\n",
              " ('%', 27),\n",
              " ('%%', 1),\n",
              " ('%100', 4),\n",
              " ('%15', 1),\n",
              " ('%50', 1),\n",
              " ('%90', 1),\n",
              " ('%appdata%', 6),\n",
              " ('%e6%9e%83%e7%80%9b%e6%a5%8b%e7%b4%99%e9%97%88%e5%ad%a6%e7%94%9f%ef%bc%8c%e7%a9%ba%e5%a7%90%e3%80%81%e6%a8%a1%e7%89%b9%e3%80%81%e5%a4%96%ef%bc%88%e7%88%9c%e9%8a%86%e5%82%9d%ef%bc%89%e5%9b%b4%ef%bc%88%e7%88%9c%e9%8a%86%e5%82%9d%ef%bc%89%e5%a5%b3%ef%bc%88%e6%b6%93%e5%93%84%ef%bc%89%e9%a2%84%ef%bc%8c%e7%ba%a6%ef%bc%8c%e7%bd%91%ef%bc%8c%e7%ab%99%ef%bc%9al%20%20%20x%20%20%20s%20%20w%202020%20%ef%bc%88%e7%82%b9%ef%bc%89c%ef%bc%8co%ef%bc%8cm%20%e5%8b%92%20%20%e4%ba%ab%20%e5%95%86%20%e5%8a%a1',\n",
              "  1),\n",
              " ('%e7%b6%8b%e6%9d%88%e6%92%b3%e5%8f%86%e7%bb%be%ee%88%9d%e5%ab%b3%e9%8f%82%e5%ad%a6%e7%94%9f%ef%bc%8c%e7%a9%ba%e5%a7%90%e3%80%81%e6%a8%a1%e7%89%b9%e3%80%81%e5%a4%96%ef%bc%88%e9%97%88%ef%bc%89%e5%9b%b4%ef%bc%88%e9%97%88%ef%bc%89%e5%a5%b3%ef%bc%88%e9%97%88%ef%bc%89%e9%a2%84%ef%bc%8c%e7%ba%a6%ef%bc%8c%e7%bd%91%ef%bc%8c%e7%ab%99%ef%bc%9al%20%20%20x%20%20%20s%20%20w%202020%20%ef%bc%88%e7%82%b9%ef%bc%89c%ef%bc%8co%ef%bc%8cm%20%e5%8b%92%20%20%e4%ba%ab%20%e5%95%86%20%e5%8a%a1',\n",
              "  1),\n",
              " ('/', 1022),\n",
              " ('//', 41),\n",
              " ('///', 20),\n",
              " ('////', 3),\n",
              " ('///////', 3),\n",
              " ('////////', 1),\n",
              " ('/////////', 1),\n",
              " ('////❤❤❤❤', 1),\n",
              " ('////❤❤❤すごく欲しいの。。ぜんぶみかに欲しいの…', 1),\n",
              " ('///del/icia', 1)]"
            ]
          },
          "metadata": {},
          "execution_count": 80
        }
      ]
    },
    {
      "cell_type": "code",
      "source": [
        "# rank words in descending order\n",
        "comments_rbk = comments_rbk.map(lambda x: (x[1],x[0]))\n",
        "comments_rbk.take(5)"
      ],
      "metadata": {
        "colab": {
          "base_uri": "https://localhost:8080/"
        },
        "id": "c-jn9QEUz84P",
        "outputId": "2e7baf87-9c4f-4225-8bd2-21c33c44d372"
      },
      "execution_count": 81,
      "outputs": [
        {
          "output_type": "execute_result",
          "data": {
            "text/plain": [
              "[(1, '\\x100'), (27, '%'), (1, '%%'), (4, '%100'), (1, '%15')]"
            ]
          },
          "metadata": {},
          "execution_count": 81
        }
      ]
    },
    {
      "cell_type": "code",
      "source": [
        "comments_rbk.sortByKey(False).take(20)"
      ],
      "metadata": {
        "colab": {
          "base_uri": "https://localhost:8080/"
        },
        "id": "AFfmvzrZ0QsB",
        "outputId": "8d5b3668-ad8b-4f94-ba66-018d476f035f"
      },
      "execution_count": 82,
      "outputs": [
        {
          "output_type": "execute_result",
          "data": {
            "text/plain": [
              "[(201269, 'i'),\n",
              " (179937, 'the'),\n",
              " (141744, 'a'),\n",
              " (140830, 'to'),\n",
              " (127972, 'you'),\n",
              " (122113, 'is'),\n",
              " (114712, 'and'),\n",
              " (90444, 'this'),\n",
              " (85759, 'that'),\n",
              " (85645, 'so'),\n",
              " (83623, 'her'),\n",
              " (78121, 'love'),\n",
              " (75518, 'my'),\n",
              " (68426, 'of'),\n",
              " (67390, 'in'),\n",
              " (67007, 'she'),\n",
              " (64754, 'it'),\n",
              " (64238, 'me'),\n",
              " (63040, 'hot'),\n",
              " (60888, 'like')]"
            ]
          },
          "metadata": {},
          "execution_count": 82
        }
      ]
    },
    {
      "cell_type": "code",
      "source": [
        "# now, remove stopwords\n",
        "import nltk\n",
        "nltk.download('stopwords')"
      ],
      "metadata": {
        "colab": {
          "base_uri": "https://localhost:8080/"
        },
        "id": "rcYtSXWQy9L5",
        "outputId": "522fc7ae-7baa-4eac-ae64-cf778ce66e16"
      },
      "execution_count": 83,
      "outputs": [
        {
          "output_type": "stream",
          "name": "stderr",
          "text": [
            "[nltk_data] Downloading package stopwords to /root/nltk_data...\n",
            "[nltk_data]   Package stopwords is already up-to-date!\n"
          ]
        },
        {
          "output_type": "execute_result",
          "data": {
            "text/plain": [
              "True"
            ]
          },
          "metadata": {},
          "execution_count": 83
        }
      ]
    },
    {
      "cell_type": "code",
      "source": [
        "from nltk.corpus import stopwords\n",
        "stopwords = stopwords.words('english')"
      ],
      "metadata": {
        "id": "BqlFYz24zHJM"
      },
      "execution_count": 84,
      "outputs": []
    },
    {
      "cell_type": "code",
      "source": [
        "comments_rbk = comments_rbk.filter(lambda x: x[1] not in stopwords).sortByKey(False)\n",
        "comments_rbk.sortByKey(False).take(20)"
      ],
      "metadata": {
        "colab": {
          "base_uri": "https://localhost:8080/"
        },
        "id": "otaI4tQHziGJ",
        "outputId": "d72e1168-98d3-4fca-80d0-3298231659b6"
      },
      "execution_count": 85,
      "outputs": [
        {
          "output_type": "execute_result",
          "data": {
            "text/plain": [
              "[(78121, 'love'),\n",
              " (63040, 'hot'),\n",
              " (60888, 'like'),\n",
              " (46163, 'video'),\n",
              " (35811, 'fuck'),\n",
              " (32933, 'would'),\n",
              " (32373, 'pussy'),\n",
              " (32365, 'sexy'),\n",
              " (29165, 'girl'),\n",
              " (28452, 'nice'),\n",
              " (27856, 'ass'),\n",
              " (25518, 'want'),\n",
              " (25164, 'name'),\n",
              " (24563, 'good'),\n",
              " (24170, 'beautiful'),\n",
              " (23189, 'cock'),\n",
              " (23134, 'one'),\n",
              " (22689, 'fucking'),\n",
              " (22390, 'great'),\n",
              " (21859, 'amazing')]"
            ]
          },
          "metadata": {},
          "execution_count": 85
        }
      ]
    },
    {
      "cell_type": "code",
      "source": [
        "# now, plot\n",
        "top_20_words = comments_rbk.sortByKey(False).take(20)"
      ],
      "metadata": {
        "id": "KtDkyY7h0iWa"
      },
      "execution_count": 86,
      "outputs": []
    },
    {
      "cell_type": "code",
      "source": [
        "# create dictionary from list\n",
        "indexes = [i for i in range(20)][::-1]\n",
        "labels = [i[1] for i in top_20_words][::-1]\n",
        "values = [i[0] for i in top_20_words][::-1]"
      ],
      "metadata": {
        "id": "MyrSyod91vmq"
      },
      "execution_count": 109,
      "outputs": []
    },
    {
      "cell_type": "code",
      "source": [
        "import matplotlib.pyplot as plt"
      ],
      "metadata": {
        "id": "U-PC6L--3RJ4"
      },
      "execution_count": 99,
      "outputs": []
    },
    {
      "cell_type": "code",
      "source": [
        "bar_width = 0.35\n",
        "\n",
        "bar_width = 0.35\n",
        "\n",
        "fig = plt.figure() \n",
        "fig.set_size_inches(3,5)\n",
        "\n",
        "plt.barh(indexes, values, alpha=0.5)\n",
        "\n",
        "# add labels\n",
        "plt.yticks(indexes, labels, fontsize=10)\n",
        "plt.xlabel('Frequency Count', fontsize=10)\n",
        "plt.ylabel('Word', fontsize=10)\n",
        "plt.title('Top 20 Words in Pornhub Comments', fontsize=12)\n",
        "plt.gca().invert_yaxis()\n",
        "plt.show()"
      ],
      "metadata": {
        "colab": {
          "base_uri": "https://localhost:8080/",
          "height": 487
        },
        "id": "SM-SVs0R23OL",
        "outputId": "775e5d51-881b-4e86-a8bf-d86356868d9a"
      },
      "execution_count": 117,
      "outputs": [
        {
          "output_type": "display_data",
          "data": {
            "text/plain": [
              "<Figure size 300x500 with 1 Axes>"
            ],
            "image/png": "[encoded data removed]"
          },
          "metadata": {}
        }
      ]
    }
  ]
}