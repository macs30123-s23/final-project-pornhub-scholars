{
  "cells": [
    {
      "attachments": {},
      "cell_type": "markdown",
      "metadata": {
        "id": "xx5oDru80VtH"
      },
      "source": [
        "## Configure Pyspark"
      ]
    },
    {
      "cell_type": "code",
      "execution_count": 1,
      "metadata": {
        "id": "tPxjneY00Bt8"
      },
      "outputs": [],
      "source": [
        "!apt-get install openjdk-8-jdk-headless -qq > /dev/null\n",
        "!wget -q https://archive.apache.org/dist/spark/spark-3.1.2/spark-3.1.2-bin-hadoop3.2.tgz\n",
        "!tar xf spark-3.1.2-bin-hadoop3.2.tgz\n",
        "!pip install -q findspark"
      ]
    },
    {
      "cell_type": "code",
      "execution_count": 2,
      "metadata": {
        "id": "jj8HAmDG0CqS"
      },
      "outputs": [],
      "source": [
        "import os\n",
        "os.environ[\"JAVA_HOME\"] = \"/usr/lib/jvm/java-8-openjdk-amd64\"\n",
        "os.environ[\"SPARK_HOME\"] = \"/content/spark-3.1.2-bin-hadoop3.2\"\n",
        "import findspark\n",
        "findspark.init()"
      ]
    },
    {
      "cell_type": "code",
      "execution_count": 3,
      "metadata": {
        "colab": {
          "base_uri": "https://localhost:8080/"
        },
        "id": "5IANgncL1Ocr",
        "outputId": "b4e63d2f-3697-483b-92b7-ab223c050375"
      },
      "outputs": [
        {
          "name": "stdout",
          "output_type": "stream",
          "text": [
            "Looking in indexes: https://pypi.org/simple, https://us-python.pkg.dev/colab-wheels/public/simple/\n",
            "Collecting sparknlp\n",
            "  Downloading sparknlp-1.0.0-py3-none-any.whl (1.4 kB)\n",
            "Collecting spark-nlp (from sparknlp)\n",
            "  Downloading spark_nlp-4.4.2-py2.py3-none-any.whl (489 kB)\n",
            "\u001b[2K     \u001b[90m━━━━━━━━━━━━━━━━━━━━━━━━━━━━━━━━━━━━━━\u001b[0m \u001b[32m489.4/489.4 kB\u001b[0m \u001b[31m10.0 MB/s\u001b[0m eta \u001b[36m0:00:00\u001b[0m\n",
            "\u001b[?25hRequirement already satisfied: numpy in /usr/local/lib/python3.10/dist-packages (from sparknlp) (1.22.4)\n",
            "Installing collected packages: spark-nlp, sparknlp\n",
            "Successfully installed spark-nlp-4.4.2 sparknlp-1.0.0\n"
          ]
        }
      ],
      "source": [
        "!pip install sparknlp"
      ]
    },
    {
      "cell_type": "code",
      "execution_count": 4,
      "metadata": {
        "id": "MHbZnQ9s0k62"
      },
      "outputs": [],
      "source": [
        "import pandas as pd\n",
        "import numpy as np\n",
        "import json\n",
        "\n",
        "import sparknlp\n",
        "import pyspark.sql.functions as F\n",
        "\n",
        "from sparknlp.annotator import *\n",
        "from sparknlp.base import *\n",
        "from pyspark.ml import Pipeline\n",
        "from pyspark.sql import SparkSession\n",
        "from sparknlp.pretrained import PretrainedPipeline\n",
        "from pyspark.sql.types import StringType, IntegerType"
      ]
    },
    {
      "cell_type": "code",
      "execution_count": 5,
      "metadata": {
        "id": "52jYfWOH0l0_"
      },
      "outputs": [],
      "source": [
        "import pandas as pd\n",
        "pd.set_option('display.max_columns',100, 'display.max_colwidth',1000, 'display.max_rows',1000, \n",
        "              'display.float_format', lambda x: '%.2f' % x)\n",
        "import numpy as np\n",
        "import matplotlib.pyplot as plt\n",
        "import seaborn as sns"
      ]
    },
    {
      "cell_type": "code",
      "execution_count": 6,
      "metadata": {
        "id": "gbGmD8xK1Cb3"
      },
      "outputs": [],
      "source": [
        "from pyspark.ml.linalg import Vectors\n",
        "from pyspark.ml.feature import VectorAssembler, StandardScaler\n",
        "from pyspark.ml.stat import Correlation\n",
        "from pyspark.ml.clustering import BisectingKMeans\n",
        "from pyspark.ml.evaluation import ClusteringEvaluator\n",
        "from pyspark.ml import Pipeline\n",
        "from pyspark.ml.tuning import CrossValidator, ParamGridBuilder"
      ]
    },
    {
      "cell_type": "code",
      "execution_count": 7,
      "metadata": {
        "id": "0bP1-GCT1Iv-"
      },
      "outputs": [],
      "source": [
        "import nltk\n",
        "from nltk.corpus import stopwords\n",
        "from collections import Counter\n",
        "from wordcloud import WordCloud\n",
        "from textblob import TextBlob"
      ]
    },
    {
      "attachments": {},
      "cell_type": "markdown",
      "metadata": {
        "id": "MN7csmPH0fAH"
      },
      "source": [
        "## Read in data"
      ]
    },
    {
      "cell_type": "code",
      "execution_count": 8,
      "metadata": {
        "id": "IROrkjlP0eHs"
      },
      "outputs": [],
      "source": [
        "from pyspark.sql.functions import *\n",
        "spark = sparknlp.start()"
      ]
    },
    {
      "cell_type": "code",
      "execution_count": 9,
      "metadata": {
        "colab": {
          "base_uri": "https://localhost:8080/"
        },
        "id": "0b_9L2le1XBx",
        "outputId": "7daea41e-68f9-42db-fa67-526936e0fb48"
      },
      "outputs": [
        {
          "name": "stdout",
          "output_type": "stream",
          "text": [
            "Mounted at /content/drive\n"
          ]
        }
      ],
      "source": [
        "# connect to google drive\n",
        "from google.colab import drive\n",
        "drive.mount('/content/drive')"
      ]
    },
    {
      "cell_type": "code",
      "execution_count": 10,
      "metadata": {
        "id": "pOECZznV1Y1p"
      },
      "outputs": [],
      "source": [
        "filePath = \"drive/MyDrive/Colab Notebooks/comments.parquet\"\n",
        "comments_df = spark.read.format(\"parquet\").option(\"header\",\"true\").load(filePath)"
      ]
    },
    {
      "attachments": {},
      "cell_type": "markdown",
      "metadata": {
        "id": "XGaqGB8DOLwH"
      },
      "source": [
        "## Prepare Sexism Classification Model"
      ]
    },
    {
      "cell_type": "code",
      "execution_count": 11,
      "metadata": {
        "id": "FPRwBS-HOLDX"
      },
      "outputs": [],
      "source": [
        "import pandas as pd\n",
        "import numpy as np\n",
        "import json\n",
        "\n",
        "import sparknlp\n",
        "import pyspark.sql.functions as F\n",
        "\n",
        "from sparknlp.annotator import *\n",
        "from sparknlp.base import *\n",
        "from pyspark.ml import Pipeline\n",
        "from pyspark.sql import SparkSession\n",
        "from sparknlp.pretrained import PretrainedPipeline\n",
        "from pyspark.sql.types import StringType, IntegerType"
      ]
    },
    {
      "cell_type": "code",
      "execution_count": 12,
      "metadata": {
        "colab": {
          "base_uri": "https://localhost:8080/",
          "height": 271
        },
        "id": "UqMuXqocOiO-",
        "outputId": "0e2f4706-f0a8-44c8-9284-7ff9c9ef2cd8"
      },
      "outputs": [
        {
          "name": "stdout",
          "output_type": "stream",
          "text": [
            "Warning::Spark Session already created, some configs may not take.\n",
            "Spark NLP version 4.4.2\n",
            "Apache Spark version: 3.1.2\n"
          ]
        },
        {
          "data": {
            "text/html": [
              "\n",
              "            <div>\n",
              "                <p><b>SparkSession - in-memory</b></p>\n",
              "                \n",
              "        <div>\n",
              "            <p><b>SparkContext</b></p>\n",
              "\n",
              "            <p><a href=\"http://e9d43a390c09:4040\">Spark UI</a></p>\n",
              "\n",
              "            <dl>\n",
              "              <dt>Version</dt>\n",
              "                <dd><code>v3.1.2</code></dd>\n",
              "              <dt>Master</dt>\n",
              "                <dd><code>local[*]</code></dd>\n",
              "              <dt>AppName</dt>\n",
              "                <dd><code>Spark NLP</code></dd>\n",
              "            </dl>\n",
              "        </div>\n",
              "        \n",
              "            </div>\n",
              "        "
            ],
            "text/plain": [
              "<pyspark.sql.session.SparkSession at 0x7f14666ba2f0>"
            ]
          },
          "execution_count": 12,
          "metadata": {},
          "output_type": "execute_result"
        }
      ],
      "source": [
        "spark = sparknlp.start()\n",
        "\n",
        "print(\"Spark NLP version\", sparknlp.version())\n",
        "print(\"Apache Spark version:\", spark.version)\n",
        "\n",
        "spark"
      ]
    },
    {
      "cell_type": "code",
      "execution_count": 13,
      "metadata": {
        "id": "x7sGeRYQOip8"
      },
      "outputs": [],
      "source": [
        "MODEL_NAME='classifierdl_use_cyberbullying'"
      ]
    },
    {
      "cell_type": "code",
      "execution_count": 14,
      "metadata": {
        "colab": {
          "base_uri": "https://localhost:8080/"
        },
        "id": "BvV5lzugOZ1D",
        "outputId": "826630b0-9664-4334-df11-34b6e43928ee"
      },
      "outputs": [
        {
          "name": "stdout",
          "output_type": "stream",
          "text": [
            "tfhub_use download started this may take some time.\n",
            "Approximate size to download 923.7 MB\n",
            "[OK!]\n",
            "classifierdl_use_cyberbullying download started this may take some time.\n",
            "Approximate size to download 21.3 MB\n",
            "[OK!]\n"
          ]
        }
      ],
      "source": [
        "documentAssembler = DocumentAssembler()\\\n",
        "    .setInputCol(\"text\")\\\n",
        "    .setOutputCol(\"document\")\n",
        "    \n",
        "use = UniversalSentenceEncoder.pretrained(name=\"tfhub_use\", lang=\"en\")\\\n",
        " .setInputCols([\"document\"])\\\n",
        " .setOutputCol(\"sentence_embeddings\")\n",
        "\n",
        "\n",
        "sentimentdl = ClassifierDLModel.pretrained(name=MODEL_NAME)\\\n",
        "    .setInputCols([\"sentence_embeddings\"])\\\n",
        "    .setOutputCol(\"sentiment\")\n",
        "\n",
        "nlpPipeline = Pipeline(stages = [documentAssembler,\n",
        "                                 use,\n",
        "                                 sentimentdl])"
      ]
    },
    {
      "cell_type": "code",
      "execution_count": 15,
      "metadata": {
        "colab": {
          "base_uri": "https://localhost:8080/"
        },
        "id": "wx2ExdJUo1iq",
        "outputId": "f9348d78-e0f6-42eb-efb4-faf7b9623ef3"
      },
      "outputs": [
        {
          "name": "stdout",
          "output_type": "stream",
          "text": [
            "+--------------------------------------------------------------------------------------------------+\n",
            "|comment_text                                                                                      |\n",
            "+--------------------------------------------------------------------------------------------------+\n",
            "|Old video...come on pornhub...you can do better than this                                         |\n",
            "|Wow 😍                                                                                            |\n",
            "|Does anyone know what is the IG account from this channel ?                                       |\n",
            "|Clickbait in porn... I just totally lost my faith in humanity.                                    |\n",
            "|I would definitely suck a fart out of your asshole!                                               |\n",
            "|Super hot, why lie                                                                                |\n",
            "|big toys are fine, but you make me die when you stick your fingers in the A-hole. oh fuck i cummed|\n",
            "|This is great. I can't relax in front of the camera like that                                     |\n",
            "|❤                                                                                                 |\n",
            "|love                                                                                              |\n",
            "|просто классная девчонка 😍                                                                       |\n",
            "|I’m obsessed!! Your content is amazing 🤫                                                         |\n",
            "|Amazing content OMG 🔥😍                                                                          |\n",
            "|i love being a lesbian                                                                            |\n",
            "|me too                                                                                            |\n",
            "|Better without music.                                                                             |\n",
            "|perfect vid!                                                                                      |\n",
            "|Spreads legs love it                                                                              |\n",
            "|Yummy!!!!                                                                                         |\n",
            "|not too often u see 2 hot lesbians                                                                |\n",
            "+--------------------------------------------------------------------------------------------------+\n",
            "only showing top 20 rows\n",
            "\n"
          ]
        }
      ],
      "source": [
        "comments_df.select('comment_text').show(truncate=False)"
      ]
    },
    {
      "cell_type": "code",
      "execution_count": 16,
      "metadata": {
        "id": "UUt8YUxYo-6E"
      },
      "outputs": [],
      "source": [
        "text_list = [row.comment_text for row in comments_df.select(\"comment_text\").collect()]"
      ]
    },
    {
      "cell_type": "code",
      "execution_count": 17,
      "metadata": {
        "id": "ecAE3_lrrJ0A"
      },
      "outputs": [],
      "source": [
        "df = spark.createDataFrame(text_list, StringType()).toDF(\"text\")\n",
        "result=nlpPipeline.fit(df).transform(df)"
      ]
    },
    {
      "cell_type": "code",
      "execution_count": 18,
      "metadata": {
        "id": "k3swdu-gn_hu"
      },
      "outputs": [],
      "source": [
        "results_df = result.select(F.explode(F.arrays_zip(result.document.result, \n",
        "                                     result.sentiment.result)).alias(\"cols\")) \\\n",
        "      .select(F.expr(\"cols['0']\").alias(\"document\"),\n",
        "              F.expr(\"cols['1']\").alias(\"sentiment\"))"
      ]
    },
    {
      "cell_type": "code",
      "execution_count": null,
      "metadata": {
        "colab": {
          "base_uri": "https://localhost:8080/"
        },
        "id": "aVOymY02tiib",
        "outputId": "ca18a9f3-ad1c-45ba-8858-173d562f439f"
      },
      "outputs": [
        {
          "name": "stdout",
          "output_type": "stream",
          "text": [
            "+--------------------------------------------------------------------------------------------------+---------+\n",
            "|document                                                                                          |sentiment|\n",
            "+--------------------------------------------------------------------------------------------------+---------+\n",
            "|Old video...come on pornhub...you can do better than this                                         |neutral  |\n",
            "|Wow 😍                                                                                            |neutral  |\n",
            "|Does anyone know what is the IG account from this channel ?                                       |neutral  |\n",
            "|Clickbait in porn... I just totally lost my faith in humanity.                                    |sexism   |\n",
            "|I would definitely suck a fart out of your asshole!                                               |sexism   |\n",
            "|Super hot, why lie                                                                                |sexism   |\n",
            "|big toys are fine, but you make me die when you stick your fingers in the A-hole. oh fuck i cummed|sexism   |\n",
            "|This is great. I can't relax in front of the camera like that                                     |neutral  |\n",
            "|❤                                                                                                 |neutral  |\n",
            "|love                                                                                              |neutral  |\n",
            "|просто классная девчонка 😍                                                                       |neutral  |\n",
            "|I’m obsessed!! Your content is amazing 🤫                                                         |neutral  |\n",
            "|Amazing content OMG 🔥😍                                                                          |neutral  |\n",
            "|i love being a lesbian                                                                            |sexism   |\n",
            "|me too                                                                                            |neutral  |\n",
            "|Better without music.                                                                             |neutral  |\n",
            "|perfect vid!                                                                                      |neutral  |\n",
            "|Spreads legs love it                                                                              |neutral  |\n",
            "|Yummy!!!!                                                                                         |neutral  |\n",
            "|not too often u see 2 hot lesbians                                                                |sexism   |\n",
            "+--------------------------------------------------------------------------------------------------+---------+\n",
            "only showing top 20 rows\n",
            "\n"
          ]
        }
      ],
      "source": [
        "results_df.show(truncate=False)"
      ]
    },
    {
      "cell_type": "code",
      "execution_count": null,
      "metadata": {
        "colab": {
          "base_uri": "https://localhost:8080/",
          "height": 174
        },
        "id": "SQu5gxXKghez",
        "outputId": "4084b157-2d4a-4795-840b-ff698cac302a"
      },
      "outputs": [
        {
          "data": {
            "text/html": [
              "\n",
              "  <div id=\"df-03baaa14-64c3-4eb1-ba8b-c3d8522d7e3e\">\n",
              "    <div class=\"colab-df-container\">\n",
              "      <div>\n",
              "<style scoped>\n",
              "    .dataframe tbody tr th:only-of-type {\n",
              "        vertical-align: middle;\n",
              "    }\n",
              "\n",
              "    .dataframe tbody tr th {\n",
              "        vertical-align: top;\n",
              "    }\n",
              "\n",
              "    .dataframe thead th {\n",
              "        text-align: right;\n",
              "    }\n",
              "</style>\n",
              "<table border=\"1\" class=\"dataframe\">\n",
              "  <thead>\n",
              "    <tr style=\"text-align: right;\">\n",
              "      <th></th>\n",
              "      <th>sentiment</th>\n",
              "      <th>count</th>\n",
              "    </tr>\n",
              "  </thead>\n",
              "  <tbody>\n",
              "    <tr>\n",
              "      <th>0</th>\n",
              "      <td>None</td>\n",
              "      <td>5286</td>\n",
              "    </tr>\n",
              "    <tr>\n",
              "      <th>1</th>\n",
              "      <td>sexism</td>\n",
              "      <td>309128</td>\n",
              "    </tr>\n",
              "    <tr>\n",
              "      <th>2</th>\n",
              "      <td>neutral</td>\n",
              "      <td>543402</td>\n",
              "    </tr>\n",
              "    <tr>\n",
              "      <th>3</th>\n",
              "      <td>racism</td>\n",
              "      <td>1911</td>\n",
              "    </tr>\n",
              "  </tbody>\n",
              "</table>\n",
              "</div>\n",
              "      <button class=\"colab-df-convert\" onclick=\"convertToInteractive('df-03baaa14-64c3-4eb1-ba8b-c3d8522d7e3e')\"\n",
              "              title=\"Convert this dataframe to an interactive table.\"\n",
              "              style=\"display:none;\">\n",
              "        \n",
              "  <svg xmlns=\"http://www.w3.org/2000/svg\" height=\"24px\"viewBox=\"0 0 24 24\"\n",
              "       width=\"24px\">\n",
              "    <path d=\"M0 0h24v24H0V0z\" fill=\"none\"/>\n",
              "    <path d=\"M18.56 5.44l.94 2.06.94-2.06 2.06-.94-2.06-.94-.94-2.06-.94 2.06-2.06.94zm-11 1L8.5 8.5l.94-2.06 2.06-.94-2.06-.94L8.5 2.5l-.94 2.06-2.06.94zm10 10l.94 2.06.94-2.06 2.06-.94-2.06-.94-.94-2.06-.94 2.06-2.06.94z\"/><path d=\"M17.41 7.96l-1.37-1.37c-.4-.4-.92-.59-1.43-.59-.52 0-1.04.2-1.43.59L10.3 9.45l-7.72 7.72c-.78.78-.78 2.05 0 2.83L4 21.41c.39.39.9.59 1.41.59.51 0 1.02-.2 1.41-.59l7.78-7.78 2.81-2.81c.8-.78.8-2.07 0-2.86zM5.41 20L4 18.59l7.72-7.72 1.47 1.35L5.41 20z\"/>\n",
              "  </svg>\n",
              "      </button>\n",
              "      \n",
              "  <style>\n",
              "    .colab-df-container {\n",
              "      display:flex;\n",
              "      flex-wrap:wrap;\n",
              "      gap: 12px;\n",
              "    }\n",
              "\n",
              "    .colab-df-convert {\n",
              "      background-color: #E8F0FE;\n",
              "      border: none;\n",
              "      border-radius: 50%;\n",
              "      cursor: pointer;\n",
              "      display: none;\n",
              "      fill: #1967D2;\n",
              "      height: 32px;\n",
              "      padding: 0 0 0 0;\n",
              "      width: 32px;\n",
              "    }\n",
              "\n",
              "    .colab-df-convert:hover {\n",
              "      background-color: #E2EBFA;\n",
              "      box-shadow: 0px 1px 2px rgba(60, 64, 67, 0.3), 0px 1px 3px 1px rgba(60, 64, 67, 0.15);\n",
              "      fill: #174EA6;\n",
              "    }\n",
              "\n",
              "    [theme=dark] .colab-df-convert {\n",
              "      background-color: #3B4455;\n",
              "      fill: #D2E3FC;\n",
              "    }\n",
              "\n",
              "    [theme=dark] .colab-df-convert:hover {\n",
              "      background-color: #434B5C;\n",
              "      box-shadow: 0px 1px 3px 1px rgba(0, 0, 0, 0.15);\n",
              "      filter: drop-shadow(0px 1px 2px rgba(0, 0, 0, 0.3));\n",
              "      fill: #FFFFFF;\n",
              "    }\n",
              "  </style>\n",
              "\n",
              "      <script>\n",
              "        const buttonEl =\n",
              "          document.querySelector('#df-03baaa14-64c3-4eb1-ba8b-c3d8522d7e3e button.colab-df-convert');\n",
              "        buttonEl.style.display =\n",
              "          google.colab.kernel.accessAllowed ? 'block' : 'none';\n",
              "\n",
              "        async function convertToInteractive(key) {\n",
              "          const element = document.querySelector('#df-03baaa14-64c3-4eb1-ba8b-c3d8522d7e3e');\n",
              "          const dataTable =\n",
              "            await google.colab.kernel.invokeFunction('convertToInteractive',\n",
              "                                                     [key], {});\n",
              "          if (!dataTable) return;\n",
              "\n",
              "          const docLinkHtml = 'Like what you see? Visit the ' +\n",
              "            '<a target=\"_blank\" href=https://colab.research.google.com/notebooks/data_table.ipynb>data table notebook</a>'\n",
              "            + ' to learn more about interactive tables.';\n",
              "          element.innerHTML = '';\n",
              "          dataTable['output_type'] = 'display_data';\n",
              "          await google.colab.output.renderOutput(dataTable, element);\n",
              "          const docLink = document.createElement('div');\n",
              "          docLink.innerHTML = docLinkHtml;\n",
              "          element.appendChild(docLink);\n",
              "        }\n",
              "      </script>\n",
              "    </div>\n",
              "  </div>\n",
              "  "
            ],
            "text/plain": [
              "  sentiment   count\n",
              "0      None    5286\n",
              "1    sexism  309128\n",
              "2   neutral  543402\n",
              "3    racism    1911"
            ]
          },
          "execution_count": 87,
          "metadata": {},
          "output_type": "execute_result"
        }
      ],
      "source": [
        "sexism = results_df.groupBy('sentiment').count().toPandas()\n",
        "sexism"
      ]
    },
    {
      "cell_type": "code",
      "execution_count": null,
      "metadata": {
        "id": "XgxRXgyDRTyC"
      },
      "outputs": [],
      "source": [
        "# remove none\n",
        "sexism = sexism.drop([0])"
      ]
    },
    {
      "cell_type": "code",
      "execution_count": null,
      "metadata": {
        "colab": {
          "base_uri": "https://localhost:8080/",
          "height": 452
        },
        "id": "foPChbL4t9cR",
        "outputId": "b4e88583-ec8a-48a3-e7d4-7b4ab78576e2"
      },
      "outputs": [
        {
          "data": {
            "image/png": "[encoded data removed]",
            "text/plain": [
              "<Figure size 640x480 with 1 Axes>"
            ]
          },
          "metadata": {},
          "output_type": "display_data"
        }
      ],
      "source": [
        "import seaborn as sns\n",
        "import matplotlib.pyplot as plt\n",
        "\n",
        "# Set the background color to black\n",
        "plt.style.use('dark_background')\n",
        "\n",
        "plt.close('all')\n",
        "x = sexism['sentiment'].values\n",
        "y = sexism['count'].values\n",
        "plt.title('Count of different instances of sexism or racism among comments')\n",
        "plt.bar(x, y, color='#ffa31a')\n",
        "\n",
        "plt.ylabel('Comment Type Frequency')\n",
        "plt.xticks(x, ['sexism','neutral','racism']);"
      ]
    },
    {
      "cell_type": "code",
      "execution_count": 19,
      "metadata": {
        "id": "f_io8-OtSZI3"
      },
      "outputs": [],
      "source": [
        "sentiment = udf(lambda x: TextBlob(x).sentiment[0] if x is not None else None)\n",
        "spark.udf.register(\"sentiment\", sentiment)\n",
        "results_df = results_df.withColumn('sent_score',sentiment('document').cast('double'))"
      ]
    },
    {
      "cell_type": "code",
      "execution_count": null,
      "metadata": {
        "colab": {
          "base_uri": "https://localhost:8080/"
        },
        "id": "FQBLNSycSgRE",
        "outputId": "9f71b36d-400c-40aa-e2f4-c3c01a78be49"
      },
      "outputs": [
        {
          "name": "stdout",
          "output_type": "stream",
          "text": [
            "+--------------------+\n",
            "|          sent_score|\n",
            "+--------------------+\n",
            "|                 0.3|\n",
            "|                 0.1|\n",
            "|                 0.0|\n",
            "|                 0.0|\n",
            "|                 0.0|\n",
            "| 0.29166666666666663|\n",
            "|0.005555555555555554|\n",
            "|                 0.8|\n",
            "|                 0.0|\n",
            "|                 0.5|\n",
            "|                 0.0|\n",
            "|-0.09062499999999996|\n",
            "|  0.6000000000000001|\n",
            "|                 0.5|\n",
            "|                 0.0|\n",
            "|                 0.5|\n",
            "|                 1.0|\n",
            "|                 0.5|\n",
            "|                 0.0|\n",
            "|                0.25|\n",
            "+--------------------+\n",
            "only showing top 20 rows\n",
            "\n"
          ]
        }
      ],
      "source": [
        "results_df.select('sent_score').show()"
      ]
    },
    {
      "cell_type": "code",
      "execution_count": 20,
      "metadata": {
        "colab": {
          "base_uri": "https://localhost:8080/"
        },
        "id": "CSV7U2F6woQR",
        "outputId": "7dd14df6-a7ab-4427-a7e5-5e36016eeef1"
      },
      "outputs": [
        {
          "name": "stdout",
          "output_type": "stream",
          "text": [
            "+------------------------------------------------------------------------------------------------------------------------------------------------------------------------------------------------------------------------------------------------------------------------------------------------------------------------------------------------------------------------------------------------------------------------------------------------------------------------------------------------------------------+---------+---------------------+\n",
            "|document                                                                                                                                                                                                                                                                                                                                                                                                                                                                                                          |sentiment|sent_score           |\n",
            "+------------------------------------------------------------------------------------------------------------------------------------------------------------------------------------------------------------------------------------------------------------------------------------------------------------------------------------------------------------------------------------------------------------------------------------------------------------------------------------------------------------------+---------+---------------------+\n",
            "|Old video...come on pornhub...you can do better than this                                                                                                                                                                                                                                                                                                                                                                                                                                                         |neutral  |0.3                  |\n",
            "|Wow 😍                                                                                                                                                                                                                                                                                                                                                                                                                                                                                                            |neutral  |0.1                  |\n",
            "|Does anyone know what is the IG account from this channel ?                                                                                                                                                                                                                                                                                                                                                                                                                                                       |neutral  |0.0                  |\n",
            "|Clickbait in porn... I just totally lost my faith in humanity.                                                                                                                                                                                                                                                                                                                                                                                                                                                    |sexism   |0.0                  |\n",
            "|I would definitely suck a fart out of your asshole!                                                                                                                                                                                                                                                                                                                                                                                                                                                               |sexism   |0.0                  |\n",
            "|Super hot, why lie                                                                                                                                                                                                                                                                                                                                                                                                                                                                                                |sexism   |0.29166666666666663  |\n",
            "|big toys are fine, but you make me die when you stick your fingers in the A-hole. oh fuck i cummed                                                                                                                                                                                                                                                                                                                                                                                                                |sexism   |0.005555555555555554 |\n",
            "|This is great. I can't relax in front of the camera like that                                                                                                                                                                                                                                                                                                                                                                                                                                                     |neutral  |0.8                  |\n",
            "|❤                                                                                                                                                                                                                                                                                                                                                                                                                                                                                                                 |neutral  |0.0                  |\n",
            "|love                                                                                                                                                                                                                                                                                                                                                                                                                                                                                                              |neutral  |0.5                  |\n",
            "|просто классная девчонка 😍                                                                                                                                                                                                                                                                                                                                                                                                                                                                                       |neutral  |0.0                  |\n",
            "|I’m obsessed!! Your content is amazing 🤫                                                                                                                                                                                                                                                                                                                                                                                                                                                                         |neutral  |-0.09062499999999996 |\n",
            "|Amazing content OMG 🔥😍                                                                                                                                                                                                                                                                                                                                                                                                                                                                                          |neutral  |0.6000000000000001   |\n",
            "|i love being a lesbian                                                                                                                                                                                                                                                                                                                                                                                                                                                                                            |sexism   |0.5                  |\n",
            "|me too                                                                                                                                                                                                                                                                                                                                                                                                                                                                                                            |neutral  |0.0                  |\n",
            "|Better without music.                                                                                                                                                                                                                                                                                                                                                                                                                                                                                             |neutral  |0.5                  |\n",
            "|perfect vid!                                                                                                                                                                                                                                                                                                                                                                                                                                                                                                      |neutral  |1.0                  |\n",
            "|Spreads legs love it                                                                                                                                                                                                                                                                                                                                                                                                                                                                                              |neutral  |0.5                  |\n",
            "|Yummy!!!!                                                                                                                                                                                                                                                                                                                                                                                                                                                                                                         |neutral  |0.0                  |\n",
            "|not too often u see 2 hot lesbians                                                                                                                                                                                                                                                                                                                                                                                                                                                                                |sexism   |0.25                 |\n",
            "|This is so fucken hot. Dripping wet pussy. Man I bust a whole 2 nuts back to back on ma bitch face after fucking her while watching this video. Nicole doshi the greatest slut.                                                                                                                                                                                                                                                                                                                                   |sexism   |0.10714285714285714  |\n",
            "|This VID is so HORNEY it makes me more horney then before then........ so Horney yes yes yes yes! yea baby                                                                                                                                                                                                                                                                                                                                                                                                        |sexism   |0.625                |\n",
            "|Beautiful Outfit! Extrem sexy!!                                                                                                                                                                                                                                                                                                                                                                                                                                                                                   |neutral  |0.890625             |\n",
            "|very horny those two                                                                                                                                                                                                                                                                                                                                                                                                                                                                                              |sexism   |0.2                  |\n",
            "|\"Love this video! Dream video of you is you in these boots in any color besides \"\"Pu/Black\"\" \"\"Pleaser DELIGHT-3063                                                                                                                                                                                                                                                                                                                                                                                               |neutral  |0.625                |\n",
            "|mmm red nails, big breasts and latex - a sexy combination and You would have me on my knees before You easily like that xx                                                                                                                                                                                                                                                                                                                                                                                        |sexism   |0.23333333333333334  |\n",
            "|un buen video sexy de lesbian                                                                                                                                                                                                                                                                                                                                                                                                                                                                                     |sexism   |0.5                  |\n",
            "|is that Borat?                                                                                                                                                                                                                                                                                                                                                                                                                                                                                                    |neutral  |0.0                  |\n",
            "|now thats sexy                                                                                                                                                                                                                                                                                                                                                                                                                                                                                                    |neutral  |0.5                  |\n",
            "|I like the size of his dick ! 😉                                                                                                                                                                                                                                                                                                                                                                                                                                                                                  |neutral  |0.0                  |\n",
            "|I’d pay amounts to do                                                                                                                                                                                                                                                                                                                                                                                                                                                                                             |neutral  |0.0                  |\n",
            "|0000-00-00 00:00:00                                                                                                                                                                                                                                                                                                                                                                                                                                                                                               |neutral  |0.0                  |\n",
            "|Damn baby 🥰 you make me so hard wish I was there                                                                                                                                                                                                                                                                                                                                                                                                                                                                 |neutral  |-0.2916666666666667  |\n",
            "|Doshi makes me cum the best                                                                                                                                                                                                                                                                                                                                                                                                                                                                                       |neutral  |1.0                  |\n",
            "|watch me play😆with my pussy baby 😆 -> 👻: sαllyѕxѕhow 😇🍑                                                                                                                                                                                                                                                                                                                                                                                                                                                      |sexism   |0.0                  |\n",
            "|just blew a fat nut and I realized I don’t want to do this anymore. Night after night of watching porn has made me sick, and I look back and am upset at myself. I just want to achieve something good at life,helping others but is their actually a reason to still have to take happiness through the day and think about life sucks and you just want to pull the that trigger and wake up to it all just being a nightmare but it's how life works such as when you work hard for something you,will feel-pai|neutral  |0.011755952380952367 |\n",
            "|press f to pay respect                                                                                                                                                                                                                                                                                                                                                                                                                                                                                            |neutral  |0.0                  |\n",
            "|1 brother. Ever feel like u trapped in a loop or a swirl that just brings you deeper into darkness? if you ever find a way to bring yourself out of it, please share with me your secret.                                                                                                                                                                                                                                                                                                                         |neutral  |-0.30000000000000004 |\n",
            "|Don't let this distract you from the fact that Mr. Krabs sold Sponegbobs soul for 62 cents                                                                                                                                                                                                                                                                                                                                                                                                                        |neutral  |0.0                  |\n",
            "|Damn                                                                                                                                                                                                                                                                                                                                                                                                                                                                                                              |neutral  |0.0                  |\n",
            "|Oh really                                                                                                                                                                                                                                                                                                                                                                                                                                                                                                         |neutral  |0.2                  |\n",
            "|I can't believe this website allows nudity smh                                                                                                                                                                                                                                                                                                                                                                                                                                                                    |sexism   |0.0                  |\n",
            "|really hot                                                                                                                                                                                                                                                                                                                                                                                                                                                                                                        |sexism   |0.25                 |\n",
            "|You are my new favorite amateur!!! You need more doggystyle to show off your beautiful ass!!!                                                                                                                                                                                                                                                                                                                                                                                                                     |sexism   |0.32961647727272725  |\n",
            "|@jolat64878 bruh you're a beast. I don't like COD anymore but I wish you the best of luck.                                                                                                                                                                                                                                                                                                                                                                                                                        |neutral  |1.0                  |\n",
            "|Amazing ride baby! Lucky guy...                                                                                                                                                                                                                                                                                                                                                                                                                                                                                   |neutral  |0.5416666666666667   |\n",
            "|Dude didn’t even last a minute 😭                                                                                                                                                                                                                                                                                                                                                                                                                                                                                 |neutral  |0.0                  |\n",
            "|God loves you                                                                                                                                                                                                                                                                                                                                                                                                                                                                                                     |racism   |0.0                  |\n",
            "|Please more close-up anal videos. I would eat all the cum 💗💞💗💞💞💗💞💗💞💗😍❤❤😍❤😍❤😍❤😍                                                                                                                                                                                                                                                                                                                                                                                                                     |neutral  |0.5                  |\n",
            "|Amazing 😍🔥 wanna get fucked from this big cock🥵😈                                                                                                                                                                                                                                                                                                                                                                                                                                                              |neutral  |3.700743415417188E-17|\n",
            "+------------------------------------------------------------------------------------------------------------------------------------------------------------------------------------------------------------------------------------------------------------------------------------------------------------------------------------------------------------------------------------------------------------------------------------------------------------------------------------------------------------------+---------+---------------------+\n",
            "only showing top 50 rows\n",
            "\n"
          ]
        }
      ],
      "source": [
        "results_df.show(50, truncate=False)"
      ]
    },
    {
      "cell_type": "code",
      "execution_count": null,
      "metadata": {
        "colab": {
          "base_uri": "https://localhost:8080/"
        },
        "id": "4B9z5XIwStAN",
        "outputId": "efa55f55-6424-4f3e-9301-69f5b7de1d51"
      },
      "outputs": [
        {
          "name": "stdout",
          "output_type": "stream",
          "text": [
            "+---------+--------------------+\n",
            "|sentiment|     avg(sent_score)|\n",
            "+---------+--------------------+\n",
            "|     null|0.015093464733926178|\n",
            "|   sexism|  0.2021949577758019|\n",
            "|  neutral| 0.17638094742209443|\n",
            "|   racism|  0.0686026558250506|\n",
            "+---------+--------------------+\n",
            "\n"
          ]
        }
      ],
      "source": [
        "# plot sexism against sentiment\n",
        "sent_df = (results_df.groupBy('sentiment')\n",
        "                   .mean('sent_score')\n",
        "              )\n",
        "sent_df.show()"
      ]
    },
    {
      "cell_type": "code",
      "execution_count": null,
      "metadata": {
        "id": "6pUPYVA6S-s0"
      },
      "outputs": [],
      "source": [
        "import seaborn as sns\n",
        "import matplotlib.pyplot as plt\n",
        "\n",
        "df = sent_df.toPandas()"
      ]
    },
    {
      "cell_type": "code",
      "execution_count": null,
      "metadata": {
        "colab": {
          "base_uri": "https://localhost:8080/",
          "height": 174
        },
        "id": "AADRunVglAbP",
        "outputId": "a28a51c4-9056-4702-b834-1e89c67053d6"
      },
      "outputs": [
        {
          "data": {
            "text/html": [
              "\n",
              "  <div id=\"df-f1af93e5-2941-450b-8f02-aaa98a409863\">\n",
              "    <div class=\"colab-df-container\">\n",
              "      <div>\n",
              "<style scoped>\n",
              "    .dataframe tbody tr th:only-of-type {\n",
              "        vertical-align: middle;\n",
              "    }\n",
              "\n",
              "    .dataframe tbody tr th {\n",
              "        vertical-align: top;\n",
              "    }\n",
              "\n",
              "    .dataframe thead th {\n",
              "        text-align: right;\n",
              "    }\n",
              "</style>\n",
              "<table border=\"1\" class=\"dataframe\">\n",
              "  <thead>\n",
              "    <tr style=\"text-align: right;\">\n",
              "      <th></th>\n",
              "      <th>sentiment</th>\n",
              "      <th>avg(sent_score)</th>\n",
              "    </tr>\n",
              "  </thead>\n",
              "  <tbody>\n",
              "    <tr>\n",
              "      <th>0</th>\n",
              "      <td>None</td>\n",
              "      <td>0.02</td>\n",
              "    </tr>\n",
              "    <tr>\n",
              "      <th>1</th>\n",
              "      <td>sexism</td>\n",
              "      <td>0.20</td>\n",
              "    </tr>\n",
              "    <tr>\n",
              "      <th>2</th>\n",
              "      <td>neutral</td>\n",
              "      <td>0.18</td>\n",
              "    </tr>\n",
              "    <tr>\n",
              "      <th>3</th>\n",
              "      <td>racism</td>\n",
              "      <td>0.07</td>\n",
              "    </tr>\n",
              "  </tbody>\n",
              "</table>\n",
              "</div>\n",
              "      <button class=\"colab-df-convert\" onclick=\"convertToInteractive('df-f1af93e5-2941-450b-8f02-aaa98a409863')\"\n",
              "              title=\"Convert this dataframe to an interactive table.\"\n",
              "              style=\"display:none;\">\n",
              "        \n",
              "  <svg xmlns=\"http://www.w3.org/2000/svg\" height=\"24px\"viewBox=\"0 0 24 24\"\n",
              "       width=\"24px\">\n",
              "    <path d=\"M0 0h24v24H0V0z\" fill=\"none\"/>\n",
              "    <path d=\"M18.56 5.44l.94 2.06.94-2.06 2.06-.94-2.06-.94-.94-2.06-.94 2.06-2.06.94zm-11 1L8.5 8.5l.94-2.06 2.06-.94-2.06-.94L8.5 2.5l-.94 2.06-2.06.94zm10 10l.94 2.06.94-2.06 2.06-.94-2.06-.94-.94-2.06-.94 2.06-2.06.94z\"/><path d=\"M17.41 7.96l-1.37-1.37c-.4-.4-.92-.59-1.43-.59-.52 0-1.04.2-1.43.59L10.3 9.45l-7.72 7.72c-.78.78-.78 2.05 0 2.83L4 21.41c.39.39.9.59 1.41.59.51 0 1.02-.2 1.41-.59l7.78-7.78 2.81-2.81c.8-.78.8-2.07 0-2.86zM5.41 20L4 18.59l7.72-7.72 1.47 1.35L5.41 20z\"/>\n",
              "  </svg>\n",
              "      </button>\n",
              "      \n",
              "  <style>\n",
              "    .colab-df-container {\n",
              "      display:flex;\n",
              "      flex-wrap:wrap;\n",
              "      gap: 12px;\n",
              "    }\n",
              "\n",
              "    .colab-df-convert {\n",
              "      background-color: #E8F0FE;\n",
              "      border: none;\n",
              "      border-radius: 50%;\n",
              "      cursor: pointer;\n",
              "      display: none;\n",
              "      fill: #1967D2;\n",
              "      height: 32px;\n",
              "      padding: 0 0 0 0;\n",
              "      width: 32px;\n",
              "    }\n",
              "\n",
              "    .colab-df-convert:hover {\n",
              "      background-color: #E2EBFA;\n",
              "      box-shadow: 0px 1px 2px rgba(60, 64, 67, 0.3), 0px 1px 3px 1px rgba(60, 64, 67, 0.15);\n",
              "      fill: #174EA6;\n",
              "    }\n",
              "\n",
              "    [theme=dark] .colab-df-convert {\n",
              "      background-color: #3B4455;\n",
              "      fill: #D2E3FC;\n",
              "    }\n",
              "\n",
              "    [theme=dark] .colab-df-convert:hover {\n",
              "      background-color: #434B5C;\n",
              "      box-shadow: 0px 1px 3px 1px rgba(0, 0, 0, 0.15);\n",
              "      filter: drop-shadow(0px 1px 2px rgba(0, 0, 0, 0.3));\n",
              "      fill: #FFFFFF;\n",
              "    }\n",
              "  </style>\n",
              "\n",
              "      <script>\n",
              "        const buttonEl =\n",
              "          document.querySelector('#df-f1af93e5-2941-450b-8f02-aaa98a409863 button.colab-df-convert');\n",
              "        buttonEl.style.display =\n",
              "          google.colab.kernel.accessAllowed ? 'block' : 'none';\n",
              "\n",
              "        async function convertToInteractive(key) {\n",
              "          const element = document.querySelector('#df-f1af93e5-2941-450b-8f02-aaa98a409863');\n",
              "          const dataTable =\n",
              "            await google.colab.kernel.invokeFunction('convertToInteractive',\n",
              "                                                     [key], {});\n",
              "          if (!dataTable) return;\n",
              "\n",
              "          const docLinkHtml = 'Like what you see? Visit the ' +\n",
              "            '<a target=\"_blank\" href=https://colab.research.google.com/notebooks/data_table.ipynb>data table notebook</a>'\n",
              "            + ' to learn more about interactive tables.';\n",
              "          element.innerHTML = '';\n",
              "          dataTable['output_type'] = 'display_data';\n",
              "          await google.colab.output.renderOutput(dataTable, element);\n",
              "          const docLink = document.createElement('div');\n",
              "          docLink.innerHTML = docLinkHtml;\n",
              "          element.appendChild(docLink);\n",
              "        }\n",
              "      </script>\n",
              "    </div>\n",
              "  </div>\n",
              "  "
            ],
            "text/plain": [
              "  sentiment  avg(sent_score)\n",
              "0      None             0.02\n",
              "1    sexism             0.20\n",
              "2   neutral             0.18\n",
              "3    racism             0.07"
            ]
          },
          "execution_count": 98,
          "metadata": {},
          "output_type": "execute_result"
        }
      ],
      "source": [
        "df"
      ]
    },
    {
      "cell_type": "code",
      "execution_count": null,
      "metadata": {
        "id": "ATK5V6bYlK5W"
      },
      "outputs": [],
      "source": [
        "# remove none\n",
        "df = df.drop([0])"
      ]
    },
    {
      "cell_type": "code",
      "execution_count": null,
      "metadata": {
        "colab": {
          "base_uri": "https://localhost:8080/",
          "height": 472
        },
        "id": "CWIwQEILTVLX",
        "outputId": "b2335aa7-e226-420f-adef-558292e50eed"
      },
      "outputs": [
        {
          "data": {
            "image/png": "[encoded data removed]",
            "text/plain": [
              "<Figure size 640x480 with 1 Axes>"
            ]
          },
          "metadata": {},
          "output_type": "display_data"
        }
      ],
      "source": [
        "# Close previous plots; otherwise, will just overwrite and display again\n",
        "plt.close()\n",
        "\n",
        "sns.barplot(x='sentiment', y='avg(sent_score)', data=df, color='#ffa31a').set(title='Avg Sentiment Score by sexism or racism label', xlabel='Sexism/Racism/Neutral Classification', ylabel='Sentiment Score');"
      ]
    }
  ],
  "metadata": {
    "colab": {
      "collapsed_sections": [
        "xx5oDru80VtH",
        "MN7csmPH0fAH"
      ],
      "provenance": []
    },
    "kernelspec": {
      "display_name": "Python 3",
      "name": "python3"
    },
    "language_info": {
      "name": "python"
    }
  },
  "nbformat": 4,
  "nbformat_minor": 0
}
