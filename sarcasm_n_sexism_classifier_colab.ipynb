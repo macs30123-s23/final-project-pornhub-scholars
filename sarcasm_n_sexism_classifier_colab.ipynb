{
  "nbformat": 4,
  "nbformat_minor": 0,
  "metadata": {
    "colab": {
      "provenance": []
    },
    "kernelspec": {
      "name": "python3",
      "display_name": "Python 3"
    },
    "language_info": {
      "name": "python"
    }
  },
  "cells": [
    {
      "cell_type": "code",
      "execution_count": 20,
      "metadata": {
        "id": "S_jeVWqw-M0C"
      },
      "outputs": [],
      "source": [
        "# Install PySpark and Spark NLP\n",
        "! pip install -q pyspark==3.3.0 spark-nlp==4.2.8"
      ]
    },
    {
      "cell_type": "code",
      "source": [
        "import pandas as pd\n",
        "import numpy as np\n",
        "import json\n",
        "\n",
        "import sparknlp\n",
        "import pyspark.sql.functions as F\n",
        "\n",
        "from sparknlp.annotator import *\n",
        "from sparknlp.base import *\n",
        "from pyspark.ml import Pipeline\n",
        "from pyspark.sql import SparkSession\n",
        "from sparknlp.pretrained import PretrainedPipeline\n",
        "from pyspark.sql.types import StringType, IntegerType"
      ],
      "metadata": {
        "id": "2w-ARdvb-ORS"
      },
      "execution_count": 21,
      "outputs": []
    },
    {
      "cell_type": "code",
      "source": [
        "# get comment data and metadata through a query in an SQLite db (need to upload a db file in colab)\n",
        "# TODO: directly load parquet as a spark dataframe\n",
        "\n",
        "import sqlite3\n",
        "\n",
        "# Connect to the database\n",
        "conn = sqlite3.connect('porn_data_new.db')\n",
        "\n",
        "# Execute the query\n",
        "query = \"\"\"SELECT * FROM comments c \n",
        "           left join video_info vi on c.view_key == vi.view_key \n",
        "           left join creators c2 on vi.creator_href == c2.creator_href \n",
        "\"\"\"\n",
        "\n",
        "df = pd.read_sql(query, conn)\n"
      ],
      "metadata": {
        "id": "3m8nlAXf-QbZ"
      },
      "execution_count": 22,
      "outputs": []
    },
    {
      "cell_type": "code",
      "source": [
        "df.columns"
      ],
      "metadata": {
        "colab": {
          "base_uri": "https://localhost:8080/"
        },
        "id": "uLmkrPP0BTp1",
        "outputId": "89850bf6-ecc6-409f-e6a8-7c11061e3e32"
      },
      "execution_count": 23,
      "outputs": [
        {
          "output_type": "execute_result",
          "data": {
            "text/plain": [
              "Index(['username_href', 'view_key', 'comment_text', 'upvotes', 'timestamp',\n",
              "       'view_key', 'title', 'creator_name', 'creator_href', 'views', 'rating',\n",
              "       'year_added', 'categories', 'timestamp', 'creator_href', 'creator_name',\n",
              "       'creator_type', 'about_info', 'video_count', 'subscribers', 'infos',\n",
              "       'timestamp'],\n",
              "      dtype='object')"
            ]
          },
          "metadata": {},
          "execution_count": 23
        }
      ]
    },
    {
      "cell_type": "code",
      "source": [
        "df.head(2)"
      ],
      "metadata": {
        "colab": {
          "base_uri": "https://localhost:8080/",
          "height": 414
        },
        "id": "5IsPF49PBVAO",
        "outputId": "fec79503-ccaa-4cab-d90d-6ac8a5ee26b0"
      },
      "execution_count": 24,
      "outputs": [
        {
          "output_type": "execute_result",
          "data": {
            "text/plain": [
              "              username_href         view_key  \\\n",
              "0     /model/mirabella-star  ph5f9da0f4b754c   \n",
              "1  /users/peterachterstraat  ph5f9da0f4b754c   \n",
              "\n",
              "                       comment_text  upvotes     timestamp         view_key  \\\n",
              "0  https://vm.tiktok.com/ZMe4STLD6/        0  1.684297e+09  ph5f9da0f4b754c   \n",
              "1                  ik ben supergeil        0  1.684297e+09  ph5f9da0f4b754c   \n",
              "\n",
              "                                               title  creator_name  \\\n",
              "0  Sheryl X - Redhead girl sexually eating waterm...      Sheryl X   \n",
              "1  Sheryl X - Redhead girl sexually eating waterm...      Sheryl X   \n",
              "\n",
              "         creator_href views  ... categories     timestamp        creator_href  \\\n",
              "0  /channels/sheryl-x  None  ...         []  1.684297e+09  /channels/sheryl-x   \n",
              "1  /channels/sheryl-x  None  ...         []  1.684297e+09  /channels/sheryl-x   \n",
              "\n",
              "   creator_name creator_type about_info video_count subscribers infos  \\\n",
              "0      Sheryl X     channels       None        None        None    {}   \n",
              "1      Sheryl X     channels       None        None        None    {}   \n",
              "\n",
              "      timestamp  \n",
              "0  1.684297e+09  \n",
              "1  1.684297e+09  \n",
              "\n",
              "[2 rows x 22 columns]"
            ],
            "text/html": [
              "\n",
              "  <div id=\"df-b03ba494-fc84-497d-9778-b8d2282a3f79\">\n",
              "    <div class=\"colab-df-container\">\n",
              "      <div>\n",
              "<style scoped>\n",
              "    .dataframe tbody tr th:only-of-type {\n",
              "        vertical-align: middle;\n",
              "    }\n",
              "\n",
              "    .dataframe tbody tr th {\n",
              "        vertical-align: top;\n",
              "    }\n",
              "\n",
              "    .dataframe thead th {\n",
              "        text-align: right;\n",
              "    }\n",
              "</style>\n",
              "<table border=\"1\" class=\"dataframe\">\n",
              "  <thead>\n",
              "    <tr style=\"text-align: right;\">\n",
              "      <th></th>\n",
              "      <th>username_href</th>\n",
              "      <th>view_key</th>\n",
              "      <th>comment_text</th>\n",
              "      <th>upvotes</th>\n",
              "      <th>timestamp</th>\n",
              "      <th>view_key</th>\n",
              "      <th>title</th>\n",
              "      <th>creator_name</th>\n",
              "      <th>creator_href</th>\n",
              "      <th>views</th>\n",
              "      <th>...</th>\n",
              "      <th>categories</th>\n",
              "      <th>timestamp</th>\n",
              "      <th>creator_href</th>\n",
              "      <th>creator_name</th>\n",
              "      <th>creator_type</th>\n",
              "      <th>about_info</th>\n",
              "      <th>video_count</th>\n",
              "      <th>subscribers</th>\n",
              "      <th>infos</th>\n",
              "      <th>timestamp</th>\n",
              "    </tr>\n",
              "  </thead>\n",
              "  <tbody>\n",
              "    <tr>\n",
              "      <th>0</th>\n",
              "      <td>/model/mirabella-star</td>\n",
              "      <td>ph5f9da0f4b754c</td>\n",
              "      <td>https://vm.tiktok.com/ZMe4STLD6/</td>\n",
              "      <td>0</td>\n",
              "      <td>1.684297e+09</td>\n",
              "      <td>ph5f9da0f4b754c</td>\n",
              "      <td>Sheryl X - Redhead girl sexually eating waterm...</td>\n",
              "      <td>Sheryl X</td>\n",
              "      <td>/channels/sheryl-x</td>\n",
              "      <td>None</td>\n",
              "      <td>...</td>\n",
              "      <td>[]</td>\n",
              "      <td>1.684297e+09</td>\n",
              "      <td>/channels/sheryl-x</td>\n",
              "      <td>Sheryl X</td>\n",
              "      <td>channels</td>\n",
              "      <td>None</td>\n",
              "      <td>None</td>\n",
              "      <td>None</td>\n",
              "      <td>{}</td>\n",
              "      <td>1.684297e+09</td>\n",
              "    </tr>\n",
              "    <tr>\n",
              "      <th>1</th>\n",
              "      <td>/users/peterachterstraat</td>\n",
              "      <td>ph5f9da0f4b754c</td>\n",
              "      <td>ik ben supergeil</td>\n",
              "      <td>0</td>\n",
              "      <td>1.684297e+09</td>\n",
              "      <td>ph5f9da0f4b754c</td>\n",
              "      <td>Sheryl X - Redhead girl sexually eating waterm...</td>\n",
              "      <td>Sheryl X</td>\n",
              "      <td>/channels/sheryl-x</td>\n",
              "      <td>None</td>\n",
              "      <td>...</td>\n",
              "      <td>[]</td>\n",
              "      <td>1.684297e+09</td>\n",
              "      <td>/channels/sheryl-x</td>\n",
              "      <td>Sheryl X</td>\n",
              "      <td>channels</td>\n",
              "      <td>None</td>\n",
              "      <td>None</td>\n",
              "      <td>None</td>\n",
              "      <td>{}</td>\n",
              "      <td>1.684297e+09</td>\n",
              "    </tr>\n",
              "  </tbody>\n",
              "</table>\n",
              "<p>2 rows × 22 columns</p>\n",
              "</div>\n",
              "      <button class=\"colab-df-convert\" onclick=\"convertToInteractive('df-b03ba494-fc84-497d-9778-b8d2282a3f79')\"\n",
              "              title=\"Convert this dataframe to an interactive table.\"\n",
              "              style=\"display:none;\">\n",
              "        \n",
              "  <svg xmlns=\"http://www.w3.org/2000/svg\" height=\"24px\"viewBox=\"0 0 24 24\"\n",
              "       width=\"24px\">\n",
              "    <path d=\"M0 0h24v24H0V0z\" fill=\"none\"/>\n",
              "    <path d=\"M18.56 5.44l.94 2.06.94-2.06 2.06-.94-2.06-.94-.94-2.06-.94 2.06-2.06.94zm-11 1L8.5 8.5l.94-2.06 2.06-.94-2.06-.94L8.5 2.5l-.94 2.06-2.06.94zm10 10l.94 2.06.94-2.06 2.06-.94-2.06-.94-.94-2.06-.94 2.06-2.06.94z\"/><path d=\"M17.41 7.96l-1.37-1.37c-.4-.4-.92-.59-1.43-.59-.52 0-1.04.2-1.43.59L10.3 9.45l-7.72 7.72c-.78.78-.78 2.05 0 2.83L4 21.41c.39.39.9.59 1.41.59.51 0 1.02-.2 1.41-.59l7.78-7.78 2.81-2.81c.8-.78.8-2.07 0-2.86zM5.41 20L4 18.59l7.72-7.72 1.47 1.35L5.41 20z\"/>\n",
              "  </svg>\n",
              "      </button>\n",
              "      \n",
              "  <style>\n",
              "    .colab-df-container {\n",
              "      display:flex;\n",
              "      flex-wrap:wrap;\n",
              "      gap: 12px;\n",
              "    }\n",
              "\n",
              "    .colab-df-convert {\n",
              "      background-color: #E8F0FE;\n",
              "      border: none;\n",
              "      border-radius: 50%;\n",
              "      cursor: pointer;\n",
              "      display: none;\n",
              "      fill: #1967D2;\n",
              "      height: 32px;\n",
              "      padding: 0 0 0 0;\n",
              "      width: 32px;\n",
              "    }\n",
              "\n",
              "    .colab-df-convert:hover {\n",
              "      background-color: #E2EBFA;\n",
              "      box-shadow: 0px 1px 2px rgba(60, 64, 67, 0.3), 0px 1px 3px 1px rgba(60, 64, 67, 0.15);\n",
              "      fill: #174EA6;\n",
              "    }\n",
              "\n",
              "    [theme=dark] .colab-df-convert {\n",
              "      background-color: #3B4455;\n",
              "      fill: #D2E3FC;\n",
              "    }\n",
              "\n",
              "    [theme=dark] .colab-df-convert:hover {\n",
              "      background-color: #434B5C;\n",
              "      box-shadow: 0px 1px 3px 1px rgba(0, 0, 0, 0.15);\n",
              "      filter: drop-shadow(0px 1px 2px rgba(0, 0, 0, 0.3));\n",
              "      fill: #FFFFFF;\n",
              "    }\n",
              "  </style>\n",
              "\n",
              "      <script>\n",
              "        const buttonEl =\n",
              "          document.querySelector('#df-b03ba494-fc84-497d-9778-b8d2282a3f79 button.colab-df-convert');\n",
              "        buttonEl.style.display =\n",
              "          google.colab.kernel.accessAllowed ? 'block' : 'none';\n",
              "\n",
              "        async function convertToInteractive(key) {\n",
              "          const element = document.querySelector('#df-b03ba494-fc84-497d-9778-b8d2282a3f79');\n",
              "          const dataTable =\n",
              "            await google.colab.kernel.invokeFunction('convertToInteractive',\n",
              "                                                     [key], {});\n",
              "          if (!dataTable) return;\n",
              "\n",
              "          const docLinkHtml = 'Like what you see? Visit the ' +\n",
              "            '<a target=\"_blank\" href=https://colab.research.google.com/notebooks/data_table.ipynb>data table notebook</a>'\n",
              "            + ' to learn more about interactive tables.';\n",
              "          element.innerHTML = '';\n",
              "          dataTable['output_type'] = 'display_data';\n",
              "          await google.colab.output.renderOutput(dataTable, element);\n",
              "          const docLink = document.createElement('div');\n",
              "          docLink.innerHTML = docLinkHtml;\n",
              "          element.appendChild(docLink);\n",
              "        }\n",
              "      </script>\n",
              "    </div>\n",
              "  </div>\n",
              "  "
            ]
          },
          "metadata": {},
          "execution_count": 24
        }
      ]
    },
    {
      "cell_type": "code",
      "source": [
        "text_list = df.comment_text.to_list()"
      ],
      "metadata": {
        "id": "ijisOZ85Bepy"
      },
      "execution_count": 25,
      "outputs": []
    },
    {
      "cell_type": "code",
      "source": [
        "spark = sparknlp.start()\n",
        "\n",
        "print(\"Spark NLP version\", sparknlp.version())\n",
        "print(\"Apache Spark version:\", spark.version)\n",
        "\n",
        "spark"
      ],
      "metadata": {
        "colab": {
          "base_uri": "https://localhost:8080/",
          "height": 257
        },
        "id": "yREQ6nZfCqZw",
        "outputId": "862598ba-02e0-4788-d56e-fe94183cb167"
      },
      "execution_count": 28,
      "outputs": [
        {
          "output_type": "stream",
          "name": "stdout",
          "text": [
            "Spark NLP version 4.2.8\n",
            "Apache Spark version: 3.3.0\n"
          ]
        },
        {
          "output_type": "execute_result",
          "data": {
            "text/plain": [
              "<pyspark.sql.session.SparkSession at 0x7ff7b35fef20>"
            ],
            "text/html": [
              "\n",
              "            <div>\n",
              "                <p><b>SparkSession - in-memory</b></p>\n",
              "                \n",
              "        <div>\n",
              "            <p><b>SparkContext</b></p>\n",
              "\n",
              "            <p><a href=\"http://37dcbd5f89d6:4040\">Spark UI</a></p>\n",
              "\n",
              "            <dl>\n",
              "              <dt>Version</dt>\n",
              "                <dd><code>v3.3.0</code></dd>\n",
              "              <dt>Master</dt>\n",
              "                <dd><code>local[*]</code></dd>\n",
              "              <dt>AppName</dt>\n",
              "                <dd><code>Spark NLP</code></dd>\n",
              "            </dl>\n",
              "        </div>\n",
              "        \n",
              "            </div>\n",
              "        "
            ]
          },
          "metadata": {},
          "execution_count": 28
        }
      ]
    },
    {
      "cell_type": "markdown",
      "source": [
        "# Sarcasm classifier"
      ],
      "metadata": {
        "id": "bZMml-dLEUgV"
      }
    },
    {
      "cell_type": "code",
      "source": [
        "MODEL_NAME='classifierdl_use_sarcasm'"
      ],
      "metadata": {
        "id": "XBE3J9qqBrmi"
      },
      "execution_count": 29,
      "outputs": []
    },
    {
      "cell_type": "code",
      "source": [
        "documentAssembler = DocumentAssembler()\\\n",
        "  .setInputCol(\"text\")\\\n",
        "  .setOutputCol(\"document\")\n",
        "    \n",
        "use = UniversalSentenceEncoder.pretrained(name=\"tfhub_use\", lang=\"en\")\\\n",
        " .setInputCols([\"document\"])\\\n",
        " .setOutputCol(\"sentence_embeddings\")\n",
        "\n",
        "sentimentdl = ClassifierDLModel.pretrained(name=MODEL_NAME)\\\n",
        "  .setInputCols([\"sentence_embeddings\"])\\\n",
        "  .setOutputCol(\"sentiment\")\n",
        "\n",
        "nlpPipeline = Pipeline(stages = [\n",
        "                                documentAssembler,\n",
        "                                use,\n",
        "                                sentimentdl])\n"
      ],
      "metadata": {
        "colab": {
          "base_uri": "https://localhost:8080/"
        },
        "id": "Q4tx7y6QByfM",
        "outputId": "aa97a685-dd10-4ac3-cc0b-6b70e56cd8a9"
      },
      "execution_count": 30,
      "outputs": [
        {
          "output_type": "stream",
          "name": "stdout",
          "text": [
            "tfhub_use download started this may take some time.\n",
            "Approximate size to download 923.7 MB\n",
            "[OK!]\n",
            "classifierdl_use_sarcasm download started this may take some time.\n",
            "Approximate size to download 21.3 MB\n",
            "[OK!]\n"
          ]
        }
      ]
    },
    {
      "cell_type": "code",
      "source": [
        "df = spark.createDataFrame(text_list, StringType()).toDF(\"text\")\n",
        "result=nlpPipeline.fit(df).transform(df)"
      ],
      "metadata": {
        "id": "_wQaGnmVB4OQ"
      },
      "execution_count": 31,
      "outputs": []
    },
    {
      "cell_type": "code",
      "source": [
        "result.select(F.explode(F.arrays_zip(result.document.result, \n",
        "                                     result.sentiment.result)).alias(\"cols\")) \\\n",
        "      .select(F.expr(\"cols['0']\").alias(\"document\"),\n",
        "              F.expr(\"cols['1']\").alias(\"sentiment\")).show(truncate=False)"
      ],
      "metadata": {
        "colab": {
          "base_uri": "https://localhost:8080/"
        },
        "id": "PpJbuqCRDJ92",
        "outputId": "5ebea050-aa88-4543-c6ee-e62a4116cb70"
      },
      "execution_count": 32,
      "outputs": [
        {
          "output_type": "stream",
          "name": "stdout",
          "text": [
            "+--------------------------------------------------------------------------------------------------------------------------------------------------------+---------+\n",
            "|document                                                                                                                                                |sentiment|\n",
            "+--------------------------------------------------------------------------------------------------------------------------------------------------------+---------+\n",
            "|https://vm.tiktok.com/ZMe4STLD6/                                                                                                                        |normal   |\n",
            "|ik ben supergeil                                                                                                                                        |normal   |\n",
            "|So sexy, I love readhead, my tiny dick is so hard.                                                                                                      |normal   |\n",
            "|She prayed, and her prayers were answered..........must be some good logic\\nfor us all?\\nI really liked the hair, even under the armpits. So rare today!|normal   |\n",
            "|Wonder what she prayed for?\\nAn orgasm?\\nOh well, who hasn't?                                                                                           |normal   |\n",
            "|Now that is a hairy bush. I love it                                                                                                                     |normal   |\n",
            "|she has a hot little body. Would like to see more of her.                                                                                               |normal   |\n",
            "|Anyone know her name??/                                                                                                                                 |normal   |\n",
            "|Clarissa Fox?                                                                                                                                           |normal   |\n",
            "|super                                                                                                                                                   |normal   |\n",
            "|What happened? Did he shave his head and stick the hair in her pussy?                                                                                   |normal   |\n",
            "|that bush is a work of art!                                                                                                                             |normal   |\n",
            "|I'd love to lick her pubes                                                                                                                              |normal   |\n",
            "|waw                                                                                                                                                     |normal   |\n",
            "|Think she knows she just fucked\\nGollum?                                                                                                                |normal   |\n",
            "|mm they way she has her feet posed at 12:49 I love it. So sexy.                                                                                         |normal   |\n",
            "|Looks Legit!                                                                                                                                            |normal   |\n",
            "|Very hot, sexy and beautiful girls!                                                                                                                     |normal   |\n",
            "|wonderful feet and wonderful girls                                                                                                                      |normal   |\n",
            "|molto bello                                                                                                                                             |normal   |\n",
            "+--------------------------------------------------------------------------------------------------------------------------------------------------------+---------+\n",
            "only showing top 20 rows\n",
            "\n"
          ]
        }
      ]
    },
    {
      "cell_type": "markdown",
      "source": [
        "# Sexism classifier"
      ],
      "metadata": {
        "id": "ZZpzek1vEYYc"
      }
    },
    {
      "cell_type": "code",
      "source": [
        "MODEL_NAME='classifierdl_use_cyberbullying'"
      ],
      "metadata": {
        "id": "Jw7nsXdRDnIq"
      },
      "execution_count": 34,
      "outputs": []
    },
    {
      "cell_type": "code",
      "source": [
        "documentAssembler = DocumentAssembler()\\\n",
        "    .setInputCol(\"text\")\\\n",
        "    .setOutputCol(\"document\")\n",
        "    \n",
        "use = UniversalSentenceEncoder.pretrained(name=\"tfhub_use\", lang=\"en\")\\\n",
        " .setInputCols([\"document\"])\\\n",
        " .setOutputCol(\"sentence_embeddings\")\n",
        "\n",
        "\n",
        "sentimentdl = ClassifierDLModel.pretrained(name=MODEL_NAME)\\\n",
        "    .setInputCols([\"sentence_embeddings\"])\\\n",
        "    .setOutputCol(\"sentiment\")\n",
        "\n",
        "nlpPipeline = Pipeline(stages = [documentAssembler,\n",
        "                                 use,\n",
        "                                 sentimentdl])\n"
      ],
      "metadata": {
        "colab": {
          "base_uri": "https://localhost:8080/"
        },
        "id": "lup2ZH4nDnaw",
        "outputId": "3bd977b5-51db-41e3-9a8e-2920da4e5997"
      },
      "execution_count": 35,
      "outputs": [
        {
          "output_type": "stream",
          "name": "stdout",
          "text": [
            "tfhub_use download started this may take some time.\n",
            "Approximate size to download 923.7 MB\n",
            "[OK!]\n",
            "classifierdl_use_cyberbullying download started this may take some time.\n",
            "Approximate size to download 21.3 MB\n",
            "[OK!]\n"
          ]
        }
      ]
    },
    {
      "cell_type": "code",
      "source": [
        "df = spark.createDataFrame(text_list, StringType()).toDF(\"text\")\n",
        "result = nlpPipeline.fit(df).transform(df)"
      ],
      "metadata": {
        "id": "uU5p9UtdDpcf"
      },
      "execution_count": 36,
      "outputs": []
    },
    {
      "cell_type": "code",
      "source": [
        "result.select(F.explode(F.arrays_zip(result.document.result, \n",
        "                                     result.sentiment.result)).alias(\"cols\")) \\\n",
        "      .select(F.expr(\"cols['0']\").alias(\"document\"),\n",
        "              F.expr(\"cols['1']\").alias(\"sentiment\")).show(truncate=False)"
      ],
      "metadata": {
        "colab": {
          "base_uri": "https://localhost:8080/"
        },
        "id": "R6V6z54kDrfP",
        "outputId": "ddde42c9-9c57-4f3f-92d1-6681748a7319"
      },
      "execution_count": 37,
      "outputs": [
        {
          "output_type": "stream",
          "name": "stdout",
          "text": [
            "+--------------------------------------------------------------------------------------------------------------------------------------------------------+---------+\n",
            "|document                                                                                                                                                |sentiment|\n",
            "+--------------------------------------------------------------------------------------------------------------------------------------------------------+---------+\n",
            "|https://vm.tiktok.com/ZMe4STLD6/                                                                                                                        |neutral  |\n",
            "|ik ben supergeil                                                                                                                                        |neutral  |\n",
            "|So sexy, I love readhead, my tiny dick is so hard.                                                                                                      |neutral  |\n",
            "|She prayed, and her prayers were answered..........must be some good logic\\nfor us all?\\nI really liked the hair, even under the armpits. So rare today!|racism   |\n",
            "|Wonder what she prayed for?\\nAn orgasm?\\nOh well, who hasn't?                                                                                           |racism   |\n",
            "|Now that is a hairy bush. I love it                                                                                                                     |sexism   |\n",
            "|she has a hot little body. Would like to see more of her.                                                                                               |sexism   |\n",
            "|Anyone know her name??/                                                                                                                                 |sexism   |\n",
            "|Clarissa Fox?                                                                                                                                           |sexism   |\n",
            "|super                                                                                                                                                   |neutral  |\n",
            "|What happened? Did he shave his head and stick the hair in her pussy?                                                                                   |sexism   |\n",
            "|that bush is a work of art!                                                                                                                             |neutral  |\n",
            "|I'd love to lick her pubes                                                                                                                              |sexism   |\n",
            "|waw                                                                                                                                                     |neutral  |\n",
            "|Think she knows she just fucked\\nGollum?                                                                                                                |neutral  |\n",
            "|mm they way she has her feet posed at 12:49 I love it. So sexy.                                                                                         |sexism   |\n",
            "|Looks Legit!                                                                                                                                            |neutral  |\n",
            "|Very hot, sexy and beautiful girls!                                                                                                                     |sexism   |\n",
            "|wonderful feet and wonderful girls                                                                                                                      |sexism   |\n",
            "|molto bello                                                                                                                                             |neutral  |\n",
            "+--------------------------------------------------------------------------------------------------------------------------------------------------------+---------+\n",
            "only showing top 20 rows\n",
            "\n"
          ]
        }
      ]
    },
    {
      "cell_type": "code",
      "source": [],
      "metadata": {
        "id": "ggMvgOcUDt5g"
      },
      "execution_count": null,
      "outputs": []
    }
  ]
}