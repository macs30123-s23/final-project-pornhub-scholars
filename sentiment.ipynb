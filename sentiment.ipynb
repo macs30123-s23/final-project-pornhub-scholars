{
  "nbformat": 4,
  "nbformat_minor": 0,
  "metadata": {
    "colab": {
      "provenance": [],
      "collapsed_sections": [
        "xx5oDru80VtH"
      ]
    },
    "kernelspec": {
      "name": "python3",
      "display_name": "Python 3"
    },
    "language_info": {
      "name": "python"
    }
  },
  "cells": [
    {
      "cell_type": "markdown",
      "source": [
        "## Configure Pyspark"
      ],
      "metadata": {
        "id": "xx5oDru80VtH"
      }
    },
    {
      "cell_type": "code",
      "source": [
        "!apt-get install openjdk-8-jdk-headless -qq > /dev/null\n",
        "!wget -q https://archive.apache.org/dist/spark/spark-3.1.2/spark-3.1.2-bin-hadoop3.2.tgz\n",
        "!tar xf spark-3.1.2-bin-hadoop3.2.tgz\n",
        "!pip install -q findspark"
      ],
      "metadata": {
        "id": "tPxjneY00Bt8"
      },
      "execution_count": null,
      "outputs": []
    },
    {
      "cell_type": "code",
      "source": [
        "import os\n",
        "os.environ[\"JAVA_HOME\"] = \"/usr/lib/jvm/java-8-openjdk-amd64\"\n",
        "os.environ[\"SPARK_HOME\"] = \"/content/spark-3.1.2-bin-hadoop3.2\"\n",
        "import findspark\n",
        "findspark.init()"
      ],
      "metadata": {
        "id": "jj8HAmDG0CqS"
      },
      "execution_count": null,
      "outputs": []
    },
    {
      "cell_type": "code",
      "source": [
        "!pip install sparknlp"
      ],
      "metadata": {
        "colab": {
          "base_uri": "https://localhost:8080/"
        },
        "id": "5IANgncL1Ocr",
        "outputId": "3e9fefcb-73bb-46f4-9d4a-9814a5841ece"
      },
      "execution_count": null,
      "outputs": [
        {
          "output_type": "stream",
          "name": "stdout",
          "text": [
            "Looking in indexes: https://pypi.org/simple, https://us-python.pkg.dev/colab-wheels/public/simple/\n",
            "Collecting sparknlp\n",
            "  Downloading sparknlp-1.0.0-py3-none-any.whl (1.4 kB)\n",
            "Collecting spark-nlp (from sparknlp)\n",
            "  Downloading spark_nlp-4.4.2-py2.py3-none-any.whl (489 kB)\n",
            "\u001b[2K     \u001b[90m━━━━━━━━━━━━━━━━━━━━━━━━━━━━━━━━━━━━━━\u001b[0m \u001b[32m489.4/489.4 kB\u001b[0m \u001b[31m12.4 MB/s\u001b[0m eta \u001b[36m0:00:00\u001b[0m\n",
            "\u001b[?25hRequirement already satisfied: numpy in /usr/local/lib/python3.10/dist-packages (from sparknlp) (1.22.4)\n",
            "Installing collected packages: spark-nlp, sparknlp\n",
            "Successfully installed spark-nlp-4.4.2 sparknlp-1.0.0\n"
          ]
        }
      ]
    },
    {
      "cell_type": "code",
      "source": [
        "import pandas as pd\n",
        "import numpy as np\n",
        "import json\n",
        "\n",
        "import sparknlp\n",
        "import pyspark.sql.functions as F\n",
        "\n",
        "from sparknlp.annotator import *\n",
        "from sparknlp.base import *\n",
        "from pyspark.ml import Pipeline\n",
        "from pyspark.sql import SparkSession\n",
        "from sparknlp.pretrained import PretrainedPipeline\n",
        "from pyspark.sql.types import StringType, IntegerType"
      ],
      "metadata": {
        "id": "MHbZnQ9s0k62"
      },
      "execution_count": null,
      "outputs": []
    },
    {
      "cell_type": "code",
      "source": [
        "import pandas as pd\n",
        "pd.set_option('display.max_columns',100, 'display.max_colwidth',1000, 'display.max_rows',1000, \n",
        "              'display.float_format', lambda x: '%.2f' % x)\n",
        "import numpy as np\n",
        "import matplotlib.pyplot as plt\n",
        "import seaborn as sns"
      ],
      "metadata": {
        "id": "52jYfWOH0l0_"
      },
      "execution_count": null,
      "outputs": []
    },
    {
      "cell_type": "code",
      "source": [
        "from pyspark.ml.linalg import Vectors\n",
        "from pyspark.ml.feature import VectorAssembler, StandardScaler\n",
        "from pyspark.ml.stat import Correlation\n",
        "from pyspark.ml.clustering import BisectingKMeans\n",
        "from pyspark.ml.evaluation import ClusteringEvaluator\n",
        "from pyspark.ml import Pipeline\n",
        "from pyspark.ml.tuning import CrossValidator, ParamGridBuilder"
      ],
      "metadata": {
        "id": "gbGmD8xK1Cb3"
      },
      "execution_count": null,
      "outputs": []
    },
    {
      "cell_type": "code",
      "source": [
        "import nltk\n",
        "from nltk.corpus import stopwords\n",
        "from collections import Counter\n",
        "from wordcloud import WordCloud\n",
        "from textblob import TextBlob"
      ],
      "metadata": {
        "id": "0bP1-GCT1Iv-"
      },
      "execution_count": null,
      "outputs": []
    },
    {
      "cell_type": "markdown",
      "source": [
        "## Read in data"
      ],
      "metadata": {
        "id": "MN7csmPH0fAH"
      }
    },
    {
      "cell_type": "code",
      "source": [
        "from pyspark.sql.functions import *\n",
        "spark = sparknlp.start()"
      ],
      "metadata": {
        "id": "IROrkjlP0eHs"
      },
      "execution_count": null,
      "outputs": []
    },
    {
      "cell_type": "code",
      "source": [
        "# connect to google drive\n",
        "from google.colab import drive\n",
        "drive.mount('/content/drive')"
      ],
      "metadata": {
        "colab": {
          "base_uri": "https://localhost:8080/"
        },
        "id": "0b_9L2le1XBx",
        "outputId": "c28b8857-0c67-4434-d63c-5c59bd161575"
      },
      "execution_count": null,
      "outputs": [
        {
          "output_type": "stream",
          "name": "stdout",
          "text": [
            "Mounted at /content/drive\n"
          ]
        }
      ]
    },
    {
      "cell_type": "code",
      "source": [
        "filePath = \"drive/MyDrive/Colab Notebooks/comments.csv.xls\"\n",
        "comments_df = spark.read.format(\"csv\").option(\"header\",\"true\").load(filePath)"
      ],
      "metadata": {
        "id": "pOECZznV1Y1p"
      },
      "execution_count": null,
      "outputs": []
    },
    {
      "cell_type": "code",
      "source": [
        "def remove_stopwords(x):    \n",
        "    sw = stopwords.words(\"english\")\n",
        "    string = ''\n",
        "    if x is not None:\n",
        "      for x in x.split(' '):\n",
        "          if x.lower() not in sw:\n",
        "              string += x + ' '\n",
        "          else:\n",
        "              pass\n",
        "    else:\n",
        "      pass\n",
        "    return string\n",
        "\n",
        "nosw = udf(remove_stopwords)\n",
        "spark.udf.register(\"nosw\", nosw)\n",
        "comments_df = comments_df.withColumn('text_nosw',nosw('comment_text'))"
      ],
      "metadata": {
        "id": "73f0vq9W1kOw"
      },
      "execution_count": null,
      "outputs": []
    },
    {
      "cell_type": "code",
      "source": [
        "sentiment = udf(lambda x: TextBlob(x).sentiment[0] if x is not None else None)\n",
        "spark.udf.register(\"sentiment\", sentiment)\n",
        "comments_df = comments_df.withColumn('sentiment',sentiment('comment_text').cast('double'))"
      ],
      "metadata": {
        "id": "_sj03ytZ2hVB"
      },
      "execution_count": null,
      "outputs": []
    },
    {
      "cell_type": "code",
      "source": [
        "comments_df.select('sentiment').show()"
      ],
      "metadata": {
        "colab": {
          "base_uri": "https://localhost:8080/"
        },
        "id": "waXnqxWv2luP",
        "outputId": "afb3f4ef-44d2-4b8a-b0c2-2524138e55e2"
      },
      "execution_count": null,
      "outputs": [
        {
          "output_type": "stream",
          "name": "stdout",
          "text": [
            "+--------------------+\n",
            "|           sentiment|\n",
            "+--------------------+\n",
            "|                 0.3|\n",
            "|                 0.1|\n",
            "|                 0.0|\n",
            "|                 0.0|\n",
            "|                 0.0|\n",
            "| 0.29166666666666663|\n",
            "|0.005555555555555554|\n",
            "|                 0.8|\n",
            "|                 0.0|\n",
            "|                 0.5|\n",
            "|                 0.0|\n",
            "|-0.09062499999999996|\n",
            "|  0.6000000000000001|\n",
            "|                 0.5|\n",
            "|                 0.0|\n",
            "|                 0.5|\n",
            "|                 1.0|\n",
            "|                 0.5|\n",
            "|                 0.0|\n",
            "|                0.25|\n",
            "+--------------------+\n",
            "only showing top 20 rows\n",
            "\n"
          ]
        }
      ]
    },
    {
      "cell_type": "code",
      "source": [
        "# print average sentiment\n",
        "comments_df.select(mean('sentiment')).collect()"
      ],
      "metadata": {
        "colab": {
          "base_uri": "https://localhost:8080/"
        },
        "id": "XIYwqW8d2ntS",
        "outputId": "d2b4a299-c8d4-4c97-aec1-d5fc8b82beb3"
      },
      "execution_count": null,
      "outputs": [
        {
          "output_type": "execute_result",
          "data": {
            "text/plain": [
              "[Row(avg(sentiment)=0.18557251609915978)]"
            ]
          },
          "metadata": {},
          "execution_count": 26
        }
      ]
    },
    {
      "cell_type": "code",
      "source": [
        "!pip install pyspark_dist_explore"
      ],
      "metadata": {
        "colab": {
          "base_uri": "https://localhost:8080/"
        },
        "id": "OoozucAI35cy",
        "outputId": "1c45bd88-97b4-4eba-8b2c-e9691d6519dd"
      },
      "execution_count": null,
      "outputs": [
        {
          "output_type": "stream",
          "name": "stdout",
          "text": [
            "Looking in indexes: https://pypi.org/simple, https://us-python.pkg.dev/colab-wheels/public/simple/\n",
            "Collecting pyspark_dist_explore\n",
            "  Downloading pyspark_dist_explore-0.1.8-py3-none-any.whl (7.2 kB)\n",
            "Requirement already satisfied: pandas in /usr/local/lib/python3.10/dist-packages (from pyspark_dist_explore) (1.5.3)\n",
            "Requirement already satisfied: numpy in /usr/local/lib/python3.10/dist-packages (from pyspark_dist_explore) (1.22.4)\n",
            "Requirement already satisfied: scipy in /usr/local/lib/python3.10/dist-packages (from pyspark_dist_explore) (1.10.1)\n",
            "Requirement already satisfied: matplotlib in /usr/local/lib/python3.10/dist-packages (from pyspark_dist_explore) (3.7.1)\n",
            "Requirement already satisfied: contourpy>=1.0.1 in /usr/local/lib/python3.10/dist-packages (from matplotlib->pyspark_dist_explore) (1.0.7)\n",
            "Requirement already satisfied: cycler>=0.10 in /usr/local/lib/python3.10/dist-packages (from matplotlib->pyspark_dist_explore) (0.11.0)\n",
            "Requirement already satisfied: fonttools>=4.22.0 in /usr/local/lib/python3.10/dist-packages (from matplotlib->pyspark_dist_explore) (4.39.3)\n",
            "Requirement already satisfied: kiwisolver>=1.0.1 in /usr/local/lib/python3.10/dist-packages (from matplotlib->pyspark_dist_explore) (1.4.4)\n",
            "Requirement already satisfied: packaging>=20.0 in /usr/local/lib/python3.10/dist-packages (from matplotlib->pyspark_dist_explore) (23.1)\n",
            "Requirement already satisfied: pillow>=6.2.0 in /usr/local/lib/python3.10/dist-packages (from matplotlib->pyspark_dist_explore) (8.4.0)\n",
            "Requirement already satisfied: pyparsing>=2.3.1 in /usr/local/lib/python3.10/dist-packages (from matplotlib->pyspark_dist_explore) (3.0.9)\n",
            "Requirement already satisfied: python-dateutil>=2.7 in /usr/local/lib/python3.10/dist-packages (from matplotlib->pyspark_dist_explore) (2.8.2)\n",
            "Requirement already satisfied: pytz>=2020.1 in /usr/local/lib/python3.10/dist-packages (from pandas->pyspark_dist_explore) (2022.7.1)\n",
            "Requirement already satisfied: six>=1.5 in /usr/local/lib/python3.10/dist-packages (from python-dateutil>=2.7->matplotlib->pyspark_dist_explore) (1.16.0)\n",
            "Installing collected packages: pyspark_dist_explore\n",
            "Successfully installed pyspark_dist_explore-0.1.8\n"
          ]
        }
      ]
    },
    {
      "cell_type": "code",
      "source": [
        "# Create some plots\n",
        "from pyspark_dist_explore import Histogram, hist, distplot, pandas_histogram\n",
        "from pyspark.sql import Row"
      ],
      "metadata": {
        "id": "pnift_Mn335-"
      },
      "execution_count": null,
      "outputs": []
    },
    {
      "cell_type": "code",
      "source": [
        "# plot sentiment in a histogram\n",
        "# Using the RDD \n",
        "hist = comments_df.select('sentiment').rdd.flatMap(lambda x: x).histogram(20)\n",
        "# Load the Computed Histogram into a Pandas Dataframe for plotting\n",
        "pd.DataFrame(list(zip(*hist)), columns=['bin', 'frequency']).set_index('bin').plot(kind='bar'); "
      ],
      "metadata": {
        "colab": {
          "base_uri": "https://localhost:8080/",
          "height": 604
        },
        "id": "anyhkb9Q3eMO",
        "outputId": "b9a903d6-524e-424c-fb96-466b43fd23d2"
      },
      "execution_count": null,
      "outputs": [
        {
          "output_type": "display_data",
          "data": {
            "text/plain": [
              "<Figure size 640x480 with 1 Axes>"
            ],
            "image/png": "[encoded data removed]"
          },
          "metadata": {}
        }
      ]
    },
    {
      "cell_type": "code",
      "source": [
        "## could i also just load this into a pandas dataframe and plot as regular?"
      ],
      "metadata": {
        "id": "VtZ1qNOi4zIv"
      },
      "execution_count": null,
      "outputs": []
    }
  ]
}